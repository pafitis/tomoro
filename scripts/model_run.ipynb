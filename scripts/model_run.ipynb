{
 "cells": [
  {
   "cell_type": "markdown",
   "metadata": {},
   "source": [
    "# Model evaluations"
   ]
  },
  {
   "cell_type": "code",
   "execution_count": null,
   "metadata": {},
   "outputs": [],
   "source": [
    "# Setup\n",
    "import pandas as pd\n",
    "import numpy as np\n",
    "import sys, os\n",
    "sys.path.append('..')\n",
    "\n",
    "from src.eval_utils import evaluate_experiment\n",
    "from src.model_utils import async_converse_llm\n",
    "from src.data_utils import process_data_table\n",
    "\n",
    "# Reproducibility\n",
    "np.random.seed(1996)\n",
    "assert np.random.random() == 0.6193051167657804\n",
    "raw_data = pd.read_json('../data/train.json')\n",
    "all_prompts = process_data_table(raw_data)\n",
    "sample_prompts = np.random.choice(all_prompts, 100)\n",
    "\n",
    "from openai import AsyncOpenAI\n",
    "async_client = AsyncOpenAI(\n",
    "    api_key=os.environ.get('DEEPSEEK_API'),\n",
    "    base_url=\"https://api.deepseek.com\",\n",
    ")\n",
    "\n",
    "from time import time\n",
    "import asyncio"
   ]
  },
  {
   "cell_type": "markdown",
   "metadata": {},
   "source": [
    "# Example of a data entry"
   ]
  },
  {
   "cell_type": "code",
   "execution_count": 2,
   "metadata": {},
   "outputs": [
    {
     "data": {
      "text/plain": [
       "{'question_type': 'simple',\n",
       " 'question': 'what is the increase observed in the interest net of capitalized interest during 2016 and 2017?',\n",
       " 'answer': '9.235%',\n",
       " 'short_context': 'Context:\\n\\n[Row 0] : interest net of capitalized interest; 2017: $ 275305; 2016: $ 252030; 2015: $ 222088\\n[Row 1] : income taxes net of refunds received; 2017: $ 188946; 2016: $ -39293 ( 39293 ); 2015: $ 41108\\n\\n',\n",
       " 'full_context': \"Context:\\n\\nthe diluted earnings per share calculation excludes stock options, sars, restricted stock and units and performance units and stock that were anti-dilutive. shares underlying the excluded stock options and sars totaled 2.6 million, 10.3 million and 10.2 million for the years ended december 31, 2017, 2016 and 2015, respectively. for the year ended december 31, 2016, 4.5 million shares of restricted stock and restricted stock units and performance units and performance stock were excluded. 10. supplemental cash flow information net cash paid for interest and income taxes was as follows for the years ended december 31, 2017, 2016 and 2015 ( in thousands ) :.\\n\\n[Row 0] : interest net of capitalized interest; 2017: $ 275305; 2016: $ 252030; 2015: $ 222088\\n[Row 1] : income taxes net of refunds received; 2017: $ 188946; 2016: $ -39293 ( 39293 ); 2015: $ 41108\\n\\neog's accrued capital expenditures at december 31, 2017, 2016 and 2015 were $ 475 million, $ 388 million and $ 416 million, respectively. non-cash investing activities for the year ended december 31, 2017 included non-cash additions of $ 282 million to eog's oil and gas properties as a result of property exchanges. non-cash investing activities for the year ended december 31, 2016 included $ 3834 million in non-cash additions to eog's oil and gas properties related to the yates transaction ( see note 17 ). 11. business segment information eog's operations are all crude oil and natural gas exploration and production related. the segment reporting topic of the asc establishes standards for reporting information about operating segments in annual financial statements. operating segments are defined as components of an enterprise about which separate financial information is available and evaluated regularly by the chief operating decision maker, or decision-making group, in deciding how to allocate resources and in assessing performance. eog's chief operating decision-making process is informal and involves the chairman of the board and chief executive officer and other key officers. this group routinely reviews and makes operating decisions related to significant issues associated with each of eog's major producing areas in the united states, trinidad, the united kingdom and china. for segment reporting purposes, the chief operating decision maker considers the major united states producing areas to be one operating segment..\\n\\n\",\n",
       " 'step_by_step_questions': ['what was the interest net of capitalized interest in 2017?',\n",
       "  'what was the interest net of capitalized interest in 2016?',\n",
       "  'what is the ratio of 2017 over 2016?',\n",
       "  'what is that value less 1?'],\n",
       " 'step_by_step_answers': [275305.0, 252030.0, 1.09235, 0.09235],\n",
       " 'step_by_step_split': [0, 0, 0, 0]}"
      ]
     },
     "execution_count": 2,
     "metadata": {},
     "output_type": "execute_result"
    }
   ],
   "source": [
    "sample_prompts[0]"
   ]
  },
  {
   "cell_type": "markdown",
   "metadata": {},
   "source": [
    "## Experiment 1: Prompt 1\n",
    "\n",
    "> Asks for evaluated maths\n",
    "\n",
    "1. Uses `deepseek-chat`\n",
    "2. Uses full context\n",
    "3. Uses straight question\n",
    "4. Does not use example fewshots\n",
    "5. Uses SYSTEM_PROMPT_V1"
   ]
  },
  {
   "cell_type": "code",
   "execution_count": null,
   "metadata": {},
   "outputs": [
    {
     "name": "stdout",
     "output_type": "stream",
     "text": [
      "\n",
      "    Act as a financial analysis specialist. Your responses must:\n",
      "    1. Strictly use only the contextual information provided by the user\n",
      "    2. Deliver the final answer in this exact format:\n",
      "        - Unitless numerical value\n",
      "        - Enclosed in \\boxed{} LaTeX formatting\n",
      "\n",
      "    Never reference external knowledge or assumptions. \n",
      "    Convert all scaled values to absolute numbers during calculations,\n",
      "    but omit units in the final answer.\n",
      "    \n"
     ]
    }
   ],
   "source": [
    "from src.prompts import SYSTEM_PROMPT_V1\n",
    "\n",
    "print(SYSTEM_PROMPT_V1)"
   ]
  },
  {
   "cell_type": "code",
   "execution_count": 4,
   "metadata": {},
   "outputs": [
    {
     "name": "stdout",
     "output_type": "stream",
     "text": [
      "Experiment:\n",
      "            % correct: 0.532\n",
      "            % correct (percentage fix): 0.54\n",
      "        \n"
     ]
    }
   ],
   "source": [
    "if 'exp1.json' not in os.listdir('../results/'):\n",
    "\n",
    "    start_time = time()\n",
    "\n",
    "    tasks = []\n",
    "    for prompt in sample_prompts:\n",
    "        res = asyncio.create_task(\n",
    "            async_converse_llm(\n",
    "                processed_data_entry=prompt,\n",
    "                client=async_client,\n",
    "                model_name='deepseek-chat',\n",
    "\n",
    "                use_short_context=False,\n",
    "                question_to_use='question',\n",
    "                answers_to_use='answer',\n",
    "                example_shots='',\n",
    "                sys_prompt=SYSTEM_PROMPT_V1\n",
    "                )\n",
    "        )\n",
    "        tasks.append(res)\n",
    "\n",
    "    results_exp1 = await asyncio.gather(*tasks)\n",
    "    \n",
    "    total_time = time() - start_time\n",
    "    minutes = int(total_time // 60)\n",
    "    seconds = total_time % 60\n",
    "    print(f\"\\nExecution time: {minutes} minutes and {seconds:.0f} seconds\")\n",
    "\n",
    "    pd.Series(results_exp1).to_json('../results/exp1.json')\n",
    "\n",
    "if 'exp1.json' in os.listdir('../results/'):\n",
    "    metrics_exp1 = evaluate_experiment('../results/exp1.json')"
   ]
  },
  {
   "cell_type": "markdown",
   "metadata": {},
   "source": [
    "## Experiment 2: Prompt 2\n",
    "\n",
    "> Asks for evaluated maths + reasoning\n",
    "\n",
    "1. Uses `deepseek-chat`\n",
    "2. Uses full context\n",
    "3. Uses straight question\n",
    "4. Does not use example fewshots\n",
    "5. Uses SYSTEM_PROMPT_V2"
   ]
  },
  {
   "cell_type": "code",
   "execution_count": null,
   "metadata": {},
   "outputs": [
    {
     "name": "stdout",
     "output_type": "stream",
     "text": [
      "\n",
      "    Act as a financial analysis specialist. Your responses must:\n",
      "    1. Strictly use only the contextual information provided by the user\n",
      "    2. Explicitly show your logical reasoning process through sequential step-by-step explanations\n",
      "    3. Deliver the final answer in this exact format:\n",
      "        - Unitless numerical value\n",
      "        - Enclosed in \\boxed{} LaTeX formatting\n",
      "\n",
      "    Never reference external knowledge or assumptions. \n",
      "    Convert all scaled values to absolute numbers during calculations, \n",
      "    but omit units in the final answer.\n",
      "    \n"
     ]
    }
   ],
   "source": [
    "from src.prompts import SYSTEM_PROMPT_V2\n",
    "\n",
    "print(SYSTEM_PROMPT_V2)"
   ]
  },
  {
   "cell_type": "code",
   "execution_count": 6,
   "metadata": {},
   "outputs": [
    {
     "name": "stdout",
     "output_type": "stream",
     "text": [
      "Experiment:\n",
      "            % correct: 0.548\n",
      "            % correct (percentage fix): 0.565\n",
      "        \n"
     ]
    }
   ],
   "source": [
    "if 'exp2.json' not in os.listdir('../results/'):\n",
    "\n",
    "    start_time = time()\n",
    "\n",
    "    tasks = []\n",
    "    for prompt in sample_prompts:\n",
    "        res = asyncio.create_task(\n",
    "            async_converse_llm(\n",
    "                processed_data_entry=prompt,\n",
    "                client=async_client,\n",
    "                model_name='deepseek-chat',\n",
    "\n",
    "                use_short_context=False,\n",
    "                question_to_use='question',\n",
    "                answers_to_use='answer',\n",
    "                example_shots='',\n",
    "                sys_prompt=SYSTEM_PROMPT_V2\n",
    "                )\n",
    "        )\n",
    "        tasks.append(res)\n",
    "\n",
    "    results_exp2 = await asyncio.gather(*tasks)\n",
    "    \n",
    "    total_time = time() - start_time\n",
    "    minutes = int(total_time // 60)\n",
    "    seconds = total_time % 60\n",
    "    print(f\"\\nExecution time: {minutes} minutes and {seconds:.0f} seconds\")\n",
    "\n",
    "    pd.Series(results_exp2).to_json('../results/exp2.json')\n",
    "\n",
    "if 'exp2.json' in os.listdir('../results/'):\n",
    "    metrics_exp2 = evaluate_experiment('../results/exp2.json')"
   ]
  },
  {
   "cell_type": "markdown",
   "metadata": {},
   "source": [
    "## Experiment 3: Prompt 3\n",
    "> Uses maths operators + no evaluation\n",
    "\n",
    "1. Uses `deepseek-chat`\n",
    "2. Uses full context\n",
    "3. Uses straight question\n",
    "4. Does not use example fewshots\n",
    "5. Uses SYSTEM_PROMPT_V3"
   ]
  },
  {
   "cell_type": "code",
   "execution_count": null,
   "metadata": {},
   "outputs": [
    {
     "name": "stdout",
     "output_type": "stream",
     "text": [
      "\n",
      "    Act as a financial computation engine. Required behavior:\n",
      "    1. Input Processing:\n",
      "    - Use ONLY context provided in the query\n",
      "    - Never incorporate external data or assumptions\n",
      "    2. Calculation Methodology:\n",
      "    - Perform and display calculations by using ONLY these Python-style operators:\n",
      "        - add(a, b) → a + b\n",
      "        - subtract(a, b) → a - b\n",
      "        - multiply(a, b) → a * b\n",
      "        - divide(a, b) → a / b\n",
      "        - power(a, b) → a^b\n",
      "    - Each operator must have EXACTLY two arguments\n",
      "    3. Output Requirements:\n",
      "    - Final answer must be:\n",
      "        - A nested combination of allowed operators\n",
      "        - In unevaluated functional form\n",
      "        - Expressed as \\boxed{operator(...)} LaTeX\n",
      "    - Include intermediate unit normalization calculations\n",
      "\n",
      "    Example: For \"Revenue per share - Cost per share = (5,000,000 revenue / 2,000,000 shares) - $5\"\n",
      "    Acceptable: \\boxed{subtract(divide(5000000, 2000000), 5)}\n",
      "    Unacceptable: \\boxed{2.5 - 5} or \\boxed{-2.5}\n",
      "\n"
     ]
    }
   ],
   "source": [
    "from src.prompts import SYSTEM_PROMPT_V3\n",
    "\n",
    "print(SYSTEM_PROMPT_V3)"
   ]
  },
  {
   "cell_type": "code",
   "execution_count": 8,
   "metadata": {},
   "outputs": [
    {
     "name": "stdout",
     "output_type": "stream",
     "text": [
      "Experiment:\n",
      "            % correct: 0.403\n",
      "            % correct (percentage fix): 0.5\n",
      "        \n"
     ]
    }
   ],
   "source": [
    "if 'exp3.json' not in os.listdir('../results/'):\n",
    "\n",
    "    start_time = time()\n",
    "\n",
    "    tasks = []\n",
    "    for prompt in sample_prompts:\n",
    "        res = asyncio.create_task(\n",
    "            async_converse_llm(\n",
    "                processed_data_entry=prompt,\n",
    "                client=async_client,\n",
    "                model_name='deepseek-chat',\n",
    "\n",
    "                use_short_context=False,\n",
    "                question_to_use='question',\n",
    "                answers_to_use='answer',\n",
    "                example_shots='',\n",
    "                sys_prompt=SYSTEM_PROMPT_V3\n",
    "                )\n",
    "        )\n",
    "        tasks.append(res)\n",
    "\n",
    "    results_exp3 = await asyncio.gather(*tasks)\n",
    "    \n",
    "    total_time = time() - start_time\n",
    "    minutes = int(total_time // 60)\n",
    "    seconds = total_time % 60\n",
    "    print(f\"\\nExecution time: {minutes} minutes and {seconds:.0f} seconds\")\n",
    "\n",
    "    pd.Series(results_exp3).to_json('../results/exp3.json')\n",
    "\n",
    "if 'exp3.json' in os.listdir('../results/'):\n",
    "    metrics_exp3 = evaluate_experiment('../results/exp3.json')"
   ]
  },
  {
   "cell_type": "markdown",
   "metadata": {},
   "source": [
    "## Experiment 4: Prompt 3\n",
    "\n",
    "> Uses broken-down questions (step-by-step)\n",
    "\n",
    "1. Uses `deepseek-chat`\n",
    "2. Uses full context\n",
    "4. Does not use example fewshots\n",
    "5. Uses SYSTEM_PROMPT_V3\n",
    "6. Uses maths operators + no evaluation\n",
    "7. Uses step by step questions rather than the straight question"
   ]
  },
  {
   "cell_type": "code",
   "execution_count": null,
   "metadata": {},
   "outputs": [
    {
     "name": "stdout",
     "output_type": "stream",
     "text": [
      "\n",
      "    Act as a financial computation engine. Required behavior:\n",
      "    1. Input Processing:\n",
      "    - Use ONLY context provided in the query\n",
      "    - Never incorporate external data or assumptions\n",
      "    2. Calculation Methodology:\n",
      "    - Perform and display calculations by using ONLY these Python-style operators:\n",
      "        - add(a, b) → a + b\n",
      "        - subtract(a, b) → a - b\n",
      "        - multiply(a, b) → a * b\n",
      "        - divide(a, b) → a / b\n",
      "        - power(a, b) → a^b\n",
      "    - Each operator must have EXACTLY two arguments\n",
      "    3. Output Requirements:\n",
      "    - Final answer must be:\n",
      "        - A nested combination of allowed operators\n",
      "        - In unevaluated functional form\n",
      "        - Expressed as \\boxed{operator(...)} LaTeX\n",
      "    - Include intermediate unit normalization calculations\n",
      "\n",
      "    Example: For \"Revenue per share - Cost per share = (5,000,000 revenue / 2,000,000 shares) - $5\"\n",
      "    Acceptable: \\boxed{subtract(divide(5000000, 2000000), 5)}\n",
      "    Unacceptable: \\boxed{2.5 - 5} or \\boxed{-2.5}\n",
      "\n"
     ]
    }
   ],
   "source": [
    "from src.prompts import SYSTEM_PROMPT_V3\n",
    "\n",
    "print(SYSTEM_PROMPT_V3)"
   ]
  },
  {
   "cell_type": "code",
   "execution_count": 10,
   "metadata": {},
   "outputs": [
    {
     "name": "stdout",
     "output_type": "stream",
     "text": [
      "Experiment:\n",
      "            % correct: 0.554\n",
      "            % correct (percentage fix): 0.554\n",
      "        \n"
     ]
    }
   ],
   "source": [
    "if 'exp4.json' not in os.listdir('../results/'):\n",
    "\n",
    "    start_time = time()\n",
    "\n",
    "    tasks = []\n",
    "    for prompt in sample_prompts:\n",
    "        res = asyncio.create_task(\n",
    "            async_converse_llm(\n",
    "                processed_data_entry=prompt,\n",
    "                client=async_client,\n",
    "                model_name='deepseek-chat',\n",
    "\n",
    "                use_short_context=False,\n",
    "                question_to_use='step_by_step_questions',\n",
    "                answers_to_use='step_by_step_answers',\n",
    "                example_shots='',\n",
    "                sys_prompt=SYSTEM_PROMPT_V3\n",
    "                )\n",
    "        )\n",
    "        tasks.append(res)\n",
    "\n",
    "    results_exp4 = await asyncio.gather(*tasks)\n",
    "    \n",
    "    total_time = time() - start_time\n",
    "    minutes = int(total_time // 60)\n",
    "    seconds = total_time % 60\n",
    "    print(f\"\\nExecution time: {minutes} minutes and {seconds:.0f} seconds\")\n",
    "\n",
    "    pd.Series(results_exp4).to_json('../results/exp4.json')\n",
    "\n",
    "if 'exp4.json' in os.listdir('../results/'):\n",
    "    metrics_exp4 = evaluate_experiment('../results/exp4.json')"
   ]
  },
  {
   "cell_type": "markdown",
   "metadata": {},
   "source": [
    "## Experiment 5: Prompt 4\n",
    "\n",
    "> Uses structured outputs and broken-down questions (step-by-step)\n",
    "\n",
    "1. Uses `deepseek-chat`\n",
    "2. Uses full context\n",
    "4. Does not use example fewshots\n",
    "5. Uses SYSTEM_PROMPT_V4\n",
    "6. Uses maths operators + no evaluation\n",
    "7. Uses step by step questions rather than the straight question\n",
    "8. Uses structured output"
   ]
  },
  {
   "cell_type": "code",
   "execution_count": null,
   "metadata": {},
   "outputs": [
    {
     "name": "stdout",
     "output_type": "stream",
     "text": [
      "\n",
      "    Act as a financial computation engine that outputs valid JSON. Required behavior:\n",
      "    1. Input Processing:\n",
      "    - Use ONLY context provided in the query\n",
      "    - Never incorporate external data or assumptions\n",
      "    2. Calculation Methodology:\n",
      "    - Perform and display calculations by using ONLY these Python-style operators:\n",
      "        - add(a, b) → a + b\n",
      "        - subtract(a, b) → a - b\n",
      "        - multiply(a, b) → a * b\n",
      "        - divide(a, b) → a / b\n",
      "        - power(a, b) → a^b\n",
      "    - Each operator must have EXACTLY two arguments\n",
      "    3. JSON Output Requirements:\n",
      "    - Structure response as valid JSON with this schema:\n",
      "        {\n",
      "            \"user_question\": \"string\",\n",
      "            \"user_context\": \"string\",\n",
      "            \"reasoning\": [\"step1\", \"step2\", ..., \"stepN\"],\n",
      "            \"final_answer\": \"boxed_expression\"\n",
      "        }\n",
      "    - Maintain atomic values in JSON (no complex objects)\n",
      "    - Escape special characters properly\n",
      "    - final_answer must use: \\boxed{operator(...)} format\n",
      "    \n",
      "    4. Compliance:\n",
      "    - Strictly follow JSON syntax\n",
      "    - No markdown formatting\n",
      "    - No additional explanations outside JSON structure\n",
      "\n",
      "    Example valid response:\n",
      "    {\n",
      "        \"user_question\": \"Calculate profit per share given 5M revenue and 2M shares with $5 fixed cost\",\n",
      "        \"user_context\": \"[Row 1] Revenue: 5,000,000\\n[Row 2] Shares: 2,000,000\\n[Row 3] Fixed cost per share: 5\",\n",
      "        \"reasoning\": [\n",
      "            \"1. Revenue per share - Cost per share\", \n",
      "            \"2. Convert 5M revenue to 5,000,000\",\n",
      "            \"3. Divide revenue by shares: 5,000,000/2,000,000\",\n",
      "            \"4. Subtract fixed cost per share from revenue per share\",\n",
      "            \"4. Use subtract() for subtraction and divide() for division\"\n",
      "        ],\n",
      "        \"final_answer\": \"\\boxed{subtract(divide(5000000, 2000000), 5)}\"\n",
      "    }\n",
      "\n"
     ]
    }
   ],
   "source": [
    "from src.prompts import SYSTEM_PROMPT_V4\n",
    "\n",
    "print(SYSTEM_PROMPT_V4)"
   ]
  },
  {
   "cell_type": "code",
   "execution_count": 12,
   "metadata": {},
   "outputs": [
    {
     "name": "stdout",
     "output_type": "stream",
     "text": [
      "Experiment:\n",
      "            % correct: 0.48\n",
      "            % correct (percentage fix): 0.48\n",
      "        \n"
     ]
    }
   ],
   "source": [
    "if 'exp5.json' not in os.listdir('../results/'):\n",
    "\n",
    "    start_time = time()\n",
    "\n",
    "    tasks = []\n",
    "    for prompt in sample_prompts:\n",
    "        res = asyncio.create_task(\n",
    "            async_converse_llm(\n",
    "                processed_data_entry=prompt,\n",
    "                client=async_client,\n",
    "                model_name='deepseek-chat',\n",
    "\n",
    "                use_short_context=False,\n",
    "                question_to_use='step_by_step_questions',\n",
    "                answers_to_use='step_by_step_answers',\n",
    "                example_shots='',\n",
    "                sys_prompt=SYSTEM_PROMPT_V4\n",
    "                )\n",
    "        )\n",
    "        tasks.append(res)\n",
    "\n",
    "    results_exp5 = await asyncio.gather(*tasks)\n",
    "    \n",
    "    total_time = time() - start_time\n",
    "    minutes = int(total_time // 60)\n",
    "    seconds = total_time % 60\n",
    "    print(f\"\\nExecution time: {minutes} minutes and {seconds:.0f} seconds\")\n",
    "\n",
    "    pd.Series(results_exp5).to_json('../results/exp5.json')\n",
    "\n",
    "if 'exp5.json' in os.listdir('../results/'):\n",
    "    metrics_exp5 = evaluate_experiment('../results/exp5.json')"
   ]
  },
  {
   "cell_type": "markdown",
   "metadata": {},
   "source": [
    "## Experiment 6: Prompt 4\n",
    "\n",
    "> Uses structured outputs and straight questions\n",
    "\n",
    "1. Uses `deepseek-chat`\n",
    "2. Uses full context\n",
    "4. Does not use example fewshots\n",
    "5. Uses SYSTEM_PROMPT_V4\n",
    "6. Uses maths operators + no evaluation\n",
    "7. Uses straight question\n",
    "8. Uses structured output"
   ]
  },
  {
   "cell_type": "code",
   "execution_count": null,
   "metadata": {},
   "outputs": [
    {
     "name": "stdout",
     "output_type": "stream",
     "text": [
      "\n",
      "    Act as a financial computation engine that outputs valid JSON. Required behavior:\n",
      "    1. Input Processing:\n",
      "    - Use ONLY context provided in the query\n",
      "    - Never incorporate external data or assumptions\n",
      "    2. Calculation Methodology:\n",
      "    - Perform and display calculations by using ONLY these Python-style operators:\n",
      "        - add(a, b) → a + b\n",
      "        - subtract(a, b) → a - b\n",
      "        - multiply(a, b) → a * b\n",
      "        - divide(a, b) → a / b\n",
      "        - power(a, b) → a^b\n",
      "    - Each operator must have EXACTLY two arguments\n",
      "    3. JSON Output Requirements:\n",
      "    - Structure response as valid JSON with this schema:\n",
      "        {\n",
      "            \"user_question\": \"string\",\n",
      "            \"user_context\": \"string\",\n",
      "            \"reasoning\": [\"step1\", \"step2\", ..., \"stepN\"],\n",
      "            \"final_answer\": \"boxed_expression\"\n",
      "        }\n",
      "    - Maintain atomic values in JSON (no complex objects)\n",
      "    - Escape special characters properly\n",
      "    - final_answer must use: \\boxed{operator(...)} format\n",
      "    \n",
      "    4. Compliance:\n",
      "    - Strictly follow JSON syntax\n",
      "    - No markdown formatting\n",
      "    - No additional explanations outside JSON structure\n",
      "\n",
      "    Example valid response:\n",
      "    {\n",
      "        \"user_question\": \"Calculate profit per share given 5M revenue and 2M shares with $5 fixed cost\",\n",
      "        \"user_context\": \"[Row 1] Revenue: 5,000,000\\n[Row 2] Shares: 2,000,000\\n[Row 3] Fixed cost per share: 5\",\n",
      "        \"reasoning\": [\n",
      "            \"1. Revenue per share - Cost per share\", \n",
      "            \"2. Convert 5M revenue to 5,000,000\",\n",
      "            \"3. Divide revenue by shares: 5,000,000/2,000,000\",\n",
      "            \"4. Subtract fixed cost per share from revenue per share\",\n",
      "            \"4. Use subtract() for subtraction and divide() for division\"\n",
      "        ],\n",
      "        \"final_answer\": \"\\boxed{subtract(divide(5000000, 2000000), 5)}\"\n",
      "    }\n",
      "\n"
     ]
    }
   ],
   "source": [
    "from src.prompts import SYSTEM_PROMPT_V4\n",
    "\n",
    "print(SYSTEM_PROMPT_V4)"
   ]
  },
  {
   "cell_type": "code",
   "execution_count": 14,
   "metadata": {},
   "outputs": [
    {
     "name": "stdout",
     "output_type": "stream",
     "text": [
      "Experiment:\n",
      "            % correct: 0.427\n",
      "            % correct (percentage fix): 0.508\n",
      "        \n"
     ]
    }
   ],
   "source": [
    "if 'exp6.json' not in os.listdir('../results/'):\n",
    "\n",
    "    start_time = time()\n",
    "\n",
    "    tasks = []\n",
    "    for prompt in sample_prompts:\n",
    "        res = asyncio.create_task(\n",
    "            async_converse_llm(\n",
    "                processed_data_entry=prompt,\n",
    "                client=async_client,\n",
    "                model_name='deepseek-chat',\n",
    "\n",
    "                use_short_context=False,\n",
    "                question_to_use='question',\n",
    "                answers_to_use='answer',\n",
    "                example_shots='',\n",
    "                sys_prompt=SYSTEM_PROMPT_V4\n",
    "                )\n",
    "        )\n",
    "        tasks.append(res)\n",
    "\n",
    "    results_exp6 = await asyncio.gather(*tasks)\n",
    "    \n",
    "    total_time = time() - start_time\n",
    "    minutes = int(total_time // 60)\n",
    "    seconds = total_time % 60\n",
    "    print(f\"\\nExecution time: {minutes} minutes and {seconds:.0f} seconds\")\n",
    "\n",
    "    pd.Series(results_exp6).to_json('../results/exp6.json')\n",
    "\n",
    "if 'exp6.json' in os.listdir('../results/'):\n",
    "    metrics_exp6 = evaluate_experiment('../results/exp6.json')"
   ]
  },
  {
   "cell_type": "markdown",
   "metadata": {},
   "source": [
    "## Experiment 7: Prompt 4\n",
    "\n",
    "> Uses `deepseek-reasoner`, structured outputs and straight questions\n",
    "\n",
    "1. Uses `deepseek-chat`\n",
    "2. Uses full context\n",
    "4. Does not use example fewshots\n",
    "5. Uses SYSTEM_PROMPT_V4\n",
    "6. Uses maths operators + no evaluation\n",
    "7. Uses straight question\n",
    "8. Uses structured output"
   ]
  },
  {
   "cell_type": "code",
   "execution_count": null,
   "metadata": {},
   "outputs": [
    {
     "name": "stdout",
     "output_type": "stream",
     "text": [
      "\n",
      "    Act as a financial computation engine that outputs valid JSON. Required behavior:\n",
      "    1. Input Processing:\n",
      "    - Use ONLY context provided in the query\n",
      "    - Never incorporate external data or assumptions\n",
      "    2. Calculation Methodology:\n",
      "    - Perform and display calculations by using ONLY these Python-style operators:\n",
      "        - add(a, b) → a + b\n",
      "        - subtract(a, b) → a - b\n",
      "        - multiply(a, b) → a * b\n",
      "        - divide(a, b) → a / b\n",
      "        - power(a, b) → a^b\n",
      "    - Each operator must have EXACTLY two arguments\n",
      "    3. JSON Output Requirements:\n",
      "    - Structure response as valid JSON with this schema:\n",
      "        {\n",
      "            \"user_question\": \"string\",\n",
      "            \"user_context\": \"string\",\n",
      "            \"reasoning\": [\"step1\", \"step2\", ..., \"stepN\"],\n",
      "            \"final_answer\": \"boxed_expression\"\n",
      "        }\n",
      "    - Maintain atomic values in JSON (no complex objects)\n",
      "    - Escape special characters properly\n",
      "    - final_answer must use: \\boxed{operator(...)} format\n",
      "    \n",
      "    4. Compliance:\n",
      "    - Strictly follow JSON syntax\n",
      "    - No markdown formatting\n",
      "    - No additional explanations outside JSON structure\n",
      "\n",
      "    Example valid response:\n",
      "    {\n",
      "        \"user_question\": \"Calculate profit per share given 5M revenue and 2M shares with $5 fixed cost\",\n",
      "        \"user_context\": \"[Row 1] Revenue: 5,000,000\\n[Row 2] Shares: 2,000,000\\n[Row 3] Fixed cost per share: 5\",\n",
      "        \"reasoning\": [\n",
      "            \"1. Revenue per share - Cost per share\", \n",
      "            \"2. Convert 5M revenue to 5,000,000\",\n",
      "            \"3. Divide revenue by shares: 5,000,000/2,000,000\",\n",
      "            \"4. Subtract fixed cost per share from revenue per share\",\n",
      "            \"4. Use subtract() for subtraction and divide() for division\"\n",
      "        ],\n",
      "        \"final_answer\": \"\\boxed{subtract(divide(5000000, 2000000), 5)}\"\n",
      "    }\n",
      "\n"
     ]
    }
   ],
   "source": [
    "from src.prompts import SYSTEM_PROMPT_V4\n",
    "\n",
    "print(SYSTEM_PROMPT_V4)"
   ]
  },
  {
   "cell_type": "code",
   "execution_count": 16,
   "metadata": {},
   "outputs": [
    {
     "ename": "ZeroDivisionError",
     "evalue": "division by zero",
     "output_type": "error",
     "traceback": [
      "\u001b[31m---------------------------------------------------------------------------\u001b[39m",
      "\u001b[31mZeroDivisionError\u001b[39m                         Traceback (most recent call last)",
      "\u001b[36mCell\u001b[39m\u001b[36m \u001b[39m\u001b[32mIn[16]\u001b[39m\u001b[32m, line 32\u001b[39m\n\u001b[32m     29\u001b[39m     pd.Series(results_exp7).to_json(\u001b[33m'\u001b[39m\u001b[33m../results/exp7.json\u001b[39m\u001b[33m'\u001b[39m)\n\u001b[32m     31\u001b[39m \u001b[38;5;28;01mif\u001b[39;00m \u001b[33m'\u001b[39m\u001b[33mexp7.json\u001b[39m\u001b[33m'\u001b[39m \u001b[38;5;129;01min\u001b[39;00m os.listdir(\u001b[33m'\u001b[39m\u001b[33m../results/\u001b[39m\u001b[33m'\u001b[39m):\n\u001b[32m---> \u001b[39m\u001b[32m32\u001b[39m     metrics_exp7 = \u001b[43mevaluate_experiment\u001b[49m\u001b[43m(\u001b[49m\u001b[33;43m'\u001b[39;49m\u001b[33;43m../results/exp7.json\u001b[39;49m\u001b[33;43m'\u001b[39;49m\u001b[43m)\u001b[49m\n",
      "\u001b[36mFile \u001b[39m\u001b[32mc:\\Users\\pafitis\\dev\\tomoro\\scripts\\..\\utils\\eval_utils.py:194\u001b[39m, in \u001b[36mevaluate_experiment\u001b[39m\u001b[34m(experiment_results, delta)\u001b[39m\n\u001b[32m    188\u001b[39m         total_preds += \u001b[32m1\u001b[39m\n\u001b[32m    190\u001b[39m     metrics.append(entry_metrics)\n\u001b[32m    192\u001b[39m \u001b[38;5;28mprint\u001b[39m(\n\u001b[32m    193\u001b[39m     \u001b[33mf\u001b[39m\u001b[33m\"\"\"\u001b[39m\u001b[33mExperiment:\u001b[39m\n\u001b[32m--> \u001b[39m\u001b[32m194\u001b[39m \u001b[33m        % correct: \u001b[39m\u001b[38;5;132;01m{\u001b[39;00mnp.round(\u001b[43mcorrect_counter\u001b[49m\u001b[43m/\u001b[49m\u001b[43mtotal_preds\u001b[49m,\u001b[38;5;250m \u001b[39m\u001b[32m3\u001b[39m)\u001b[38;5;132;01m}\u001b[39;00m\n\u001b[32m    195\u001b[39m \u001b[33m        % correct (percentage fix): \u001b[39m\u001b[38;5;132;01m{\u001b[39;00m\n\u001b[32m    196\u001b[39m \u001b[38;5;250m        \u001b[39mnp.round(correct_counter_fix/total_preds,\u001b[38;5;250m \u001b[39m\u001b[32m3\u001b[39m)\n\u001b[32m    197\u001b[39m \u001b[38;5;250m    \u001b[39m\u001b[38;5;132;01m}\u001b[39;00m\n\u001b[32m    198\u001b[39m \u001b[33m    \u001b[39m\u001b[33m\"\"\"\u001b[39m\n\u001b[32m    199\u001b[39m )\n\u001b[32m    200\u001b[39m \u001b[38;5;28;01mreturn\u001b[39;00m metrics\n",
      "\u001b[31mZeroDivisionError\u001b[39m: division by zero"
     ]
    }
   ],
   "source": [
    "if 'exp7.json' not in os.listdir('../results/'):\n",
    "\n",
    "    start_time = time()\n",
    "\n",
    "    tasks = []\n",
    "    for prompt in sample_prompts[:5]:\n",
    "        res = asyncio.create_task(\n",
    "            async_converse_llm(\n",
    "                processed_data_entry=prompt,\n",
    "                client=async_client,\n",
    "                model_name='deepseek-reasoner',\n",
    "\n",
    "                use_short_context=False,\n",
    "                question_to_use='question',\n",
    "                answers_to_use='answer',\n",
    "                example_shots='',\n",
    "                sys_prompt=SYSTEM_PROMPT_V4\n",
    "                )\n",
    "        )\n",
    "        tasks.append(res)\n",
    "\n",
    "    results_exp7 = await asyncio.gather(*tasks)\n",
    "    \n",
    "    total_time = time() - start_time\n",
    "    minutes = int(total_time // 60)\n",
    "    seconds = total_time % 60\n",
    "    print(f\"\\nExecution time: {minutes} minutes and {seconds:.0f} seconds\")\n",
    "\n",
    "    pd.Series(results_exp7).to_json('../results/exp7.json')\n",
    "\n",
    "if 'exp7.json' in os.listdir('../results/'):\n",
    "    metrics_exp7 = evaluate_experiment('../results/exp7.json')"
   ]
  },
  {
   "cell_type": "markdown",
   "metadata": {},
   "source": [
    "# Deep dive"
   ]
  },
  {
   "cell_type": "code",
   "execution_count": null,
   "metadata": {},
   "outputs": [],
   "source": [
    "flat_results = pd.json_normalize(\n",
    "    pd.DataFrame(metrics_exp4)\n",
    "    .stack()\n",
    "    .reset_index(drop=True)\n",
    "    )\n",
    "wrong_answers_4 = flat_results[flat_results['close_match'] == 0]"
   ]
  },
  {
   "cell_type": "code",
   "execution_count": null,
   "metadata": {},
   "outputs": [],
   "source": [
    "flat_results = pd.json_normalize(\n",
    "    pd.DataFrame(metrics_exp5)\n",
    "    .stack()\n",
    "    .reset_index(drop=True)\n",
    "    )\n",
    "wrong_answers_5 = flat_results[flat_results['close_match'] == 0]"
   ]
  },
  {
   "cell_type": "code",
   "execution_count": null,
   "metadata": {},
   "outputs": [],
   "source": [
    "flat_results = pd.json_normalize(\n",
    "    pd.DataFrame(metrics_exp6)\n",
    "    .stack()\n",
    "    .reset_index(drop=True)\n",
    "    )\n",
    "wrong_answers_6 = flat_results[flat_results['close_match'] == 0]"
   ]
  },
  {
   "cell_type": "code",
   "execution_count": null,
   "metadata": {},
   "outputs": [],
   "source": [
    "commonly_wrong = set(wrong_answers_5.index.values) & set(wrong_answers_4.index.values) & set(wrong_answers_6.index.values)\n",
    "commonly_wrong = [int(x) for x in commonly_wrong]"
   ]
  },
  {
   "cell_type": "code",
   "execution_count": null,
   "metadata": {},
   "outputs": [
    {
     "data": {
      "text/plain": [
       "question                                      what is the percent change?\n",
       "complete_response       To calculate the **percent change** in the S&P...\n",
       "model_pred                                                        98.09\\%\n",
       "eval_ans                                                            98.09\n",
       "annot_ans                                                          0.9809\n",
       "parsable                                                             True\n",
       "close_match                                                             0\n",
       "delta                                                             97.1091\n",
       "close_match_perc_fix                                                    0\n",
       "delta_perc_fix                                                    97.1091\n",
       "Name: 23, dtype: object"
      ]
     },
     "execution_count": 86,
     "metadata": {},
     "output_type": "execute_result"
    }
   ],
   "source": [
    "wrong_answers_4.loc[commonly_wrong[0]]"
   ]
  },
  {
   "cell_type": "code",
   "execution_count": null,
   "metadata": {},
   "outputs": [
    {
     "data": {
      "text/plain": [
       "'what is the percent change?'"
      ]
     },
     "execution_count": 87,
     "metadata": {},
     "output_type": "execute_result"
    }
   ],
   "source": [
    "wrong_answers_5.loc[commonly_wrong[0]].get('question')"
   ]
  },
  {
   "cell_type": "code",
   "execution_count": null,
   "metadata": {},
   "outputs": [
    {
     "data": {
      "text/plain": [
       "question                                      what is the percent change?\n",
       "complete_response       {\\n    \"user_question\": \"what is the percent c...\n",
       "model_pred              multiply(divide(subtract(198.09,100.00),100.00...\n",
       "eval_ans                                                            98.09\n",
       "annot_ans                                                          0.9809\n",
       "parsable                                                             True\n",
       "close_match                                                             0\n",
       "delta                                                             97.1091\n",
       "close_match_perc_fix                                                    0\n",
       "delta_perc_fix                                                    97.1091\n",
       "Name: 23, dtype: object"
      ]
     },
     "execution_count": 88,
     "metadata": {},
     "output_type": "execute_result"
    }
   ],
   "source": [
    "wrong_answers_5.loc[commonly_wrong[0]]"
   ]
  },
  {
   "cell_type": "code",
   "execution_count": null,
   "metadata": {},
   "outputs": [
    {
     "data": {
      "text/plain": [
       "question                      what was the profit margin in december 2016\n",
       "complete_response       {\\n    \"user_question\": \"what was the profit m...\n",
       "model_pred                                multiply(divide(1512,3410),100)\n",
       "eval_ans                                                        44.340176\n",
       "annot_ans                                                           13.3%\n",
       "parsable                                                             True\n",
       "close_match                                                             0\n",
       "delta                                                           31.040176\n",
       "close_match_perc_fix                                                    0\n",
       "delta_perc_fix                                                  31.040176\n",
       "Name: 23, dtype: object"
      ]
     },
     "execution_count": 89,
     "metadata": {},
     "output_type": "execute_result"
    }
   ],
   "source": [
    "wrong_answers_6.loc[commonly_wrong[0]]"
   ]
  },
  {
   "cell_type": "code",
   "execution_count": null,
   "metadata": {},
   "outputs": [
    {
     "name": "stdout",
     "output_type": "stream",
     "text": [
      "{\n",
      "    \"user_question\": \"what was the sum including cash from financing activities?\",\n",
      "    \"user_context\": \"[Row 0] ( in millions ): net cash provided by operating activities; year ended september 30 , 2019: $ 2310.2\\n[Row 1] ( in millions ): net cash used for investing activities; year ended september 30 , 2019: $ -4579.6 ( 4579.6 )\\n[Row 2] ( in millions ): net cash provided by ( used for ) financing activities; year ended september 30 , 2019: $ 1780.2\",\n",
      "    \"reasoning\": [\n",
      "        \"1. Extract net cash provided by operating activities in 2019: $2310.2 million\",\n",
      "        \"2. Extract net cash used for investing activities in 2019: $4579.6 million (absolute value)\",\n",
      "        \"3. Extract net cash provided by financing activities in 2019: $1780.2 million\",\n",
      "        \"4. Sum all three values using add() operators in sequence\"\n",
      "    ],\n",
      "    \"final_answer\": \"\\boxed{add(add(2310.2, 4579.6), 1780.2)}\"\n",
      "}\n"
     ]
    }
   ],
   "source": [
    "print(wrong_answers_5.loc[commonly_wrong[0]].get('complete_response'))"
   ]
  },
  {
   "cell_type": "code",
   "execution_count": null,
   "metadata": {},
   "outputs": [
    {
     "data": {
      "text/plain": [
       "{'question_type': 'simple',\n",
       " 'question': 'in 2019 what was the net change in cash in millions',\n",
       " 'answer': '-489.2',\n",
       " 'short_context': 'Context:\\n\\n[Row 0] ( in millions ): net cash provided by operating activities; year ended september 30 , 2019: $ 2310.2; year ended september 30 , 2018: $ 1931.2\\n[Row 1] ( in millions ): net cash used for investing activities; year ended september 30 , 2019: $ -4579.6 ( 4579.6 ); year ended september 30 , 2018: $ -815.1 ( 815.1 )\\n[Row 2] ( in millions ): net cash provided by ( used for ) financing activities; year ended september 30 , 2019: $ 1780.2; year ended september 30 , 2018: $ -755.1 ( 755.1 )\\n\\n',\n",
       " 'full_context': 'Context:\\n\\ncredit facilities. as such, our foreign cash and cash equivalents are not expected to be a key source of liquidity to our domestic operations. at september 30, 2019, we had approximately $ 2.9 billion of availability under our committed credit facilities, primarily under our revolving credit facility, the majority of which matures on july 1, 2022. this liquidity may be used to provide for ongoing working capital needs and for other general corporate purposes, including acquisitions, dividends and stock repurchases. certain restrictive covenants govern our maximum availability under the credit facilities. we test and report our compliance with these covenants as required and we were in compliance with all of these covenants at september 30, 2019. at september 30, 2019, we had $ 129.8 million of outstanding letters of credit not drawn cash and cash equivalents were $ 151.6 million at september 30, 2019 and $ 636.8 million at september 30, 2018. we used a significant portion of the cash and cash equivalents on hand at september 30, 2018 in connection with the closing of the kapstone acquisition. primarily all of the cash and cash equivalents at september 30, 2019 were held outside of the u.s. at september 30, 2019, total debt was $ 10063.4 million, $ 561.1 million of which was current. at september 30, 2018, total debt was $ 6415.2 million, $ 740.7 million of which was current. the increase in debt was primarily related to the kapstone acquisition. cash flow activity.\\n\\n[Row 0] ( in millions ): net cash provided by operating activities; year ended september 30 , 2019: $ 2310.2; year ended september 30 , 2018: $ 1931.2\\n[Row 1] ( in millions ): net cash used for investing activities; year ended september 30 , 2019: $ -4579.6 ( 4579.6 ); year ended september 30 , 2018: $ -815.1 ( 815.1 )\\n[Row 2] ( in millions ): net cash provided by ( used for ) financing activities; year ended september 30 , 2019: $ 1780.2; year ended september 30 , 2018: $ -755.1 ( 755.1 )\\n\\nnet cash provided by operating activities during fiscal 2019 increased $ 379.0 million from fiscal 2018 primarily due to higher cash earnings and a $ 340.3 million net decrease in the use of working capital compared to the prior year. as a result of the retrospective adoption of asu 2016-15 and asu 2016-18 ( each as hereinafter defined ) as discussed in 201cnote 1. description of business and summary of significant accounting policies 201d of the notes to consolidated financial statements, net cash provided by operating activities for fiscal 2018 was reduced by $ 489.7 million and cash provided by investing activities increased $ 483.8 million, primarily for the change in classification of proceeds received for beneficial interests obtained for transferring trade receivables in securitization transactions. net cash used for investing activities of $ 4579.6 million in fiscal 2019 consisted primarily of $ 3374.2 million for cash paid for the purchase of businesses, net of cash acquired ( excluding the assumption of debt ), primarily related to the kapstone acquisition, and $ 1369.1 million for capital expenditures that were partially offset by $ 119.1 million of proceeds from the sale of property, plant and equipment primarily related to the sale of our atlanta beverage facility, $ 33.2 million of proceeds from corporate owned life insurance benefits and $ 25.5 million of proceeds from property, plant and equipment insurance proceeds related to the panama city, fl mill. net cash used for investing activities of $ 815.1 million in fiscal 2018 consisted primarily of $ 999.9 million for capital expenditures, $ 239.9 million for cash paid for the purchase of businesses, net of cash acquired primarily related to the plymouth acquisition and the schl fcter acquisition, and $ 108.0 million for an investment in grupo gondi. these investments were partially offset by $ 461.6 million of cash receipts on sold trade receivables as a result of the adoption of asu 2016-15, $ 24.0 million of proceeds from the sale of certain affiliates as well as our solid waste management brokerage services business and $ 23.3 million of proceeds from the sale of property, plant and equipment. in fiscal 2019, net cash provided by financing activities of $ 1780.2 million consisted primarily of a net increase in debt of $ 2314.6 million, primarily related to the kapstone acquisition and partially offset by cash dividends paid to stockholders of $ 467.9 million and purchases of common stock of $ 88.6 million. in fiscal 2018, net cash used for financing activities of $ 755.1 million consisted primarily of cash dividends paid to stockholders of $ 440.9 million and purchases of common stock of $ 195.1 million and net repayments of debt of $ 120.1 million..\\n\\n',\n",
       " 'step_by_step_questions': ['what was the sum of net cash provided by operating activities and used for investing in 2019?',\n",
       "  'was is the sum including cash from financing activities?',\n",
       "  'what is the total sum?'],\n",
       " 'step_by_step_answers': [-2269.4, 1780.2, -489.2],\n",
       " 'step_by_step_split': [0, 0, 0]}"
      ]
     },
     "execution_count": 67,
     "metadata": {},
     "output_type": "execute_result"
    }
   ],
   "source": [
    "sample_prompts[1]"
   ]
  }
 ],
 "metadata": {
  "kernelspec": {
   "display_name": "finseek",
   "language": "python",
   "name": "python3"
  },
  "language_info": {
   "codemirror_mode": {
    "name": "ipython",
    "version": 3
   },
   "file_extension": ".py",
   "mimetype": "text/x-python",
   "name": "python",
   "nbconvert_exporter": "python",
   "pygments_lexer": "ipython3",
   "version": "3.12.7"
  }
 },
 "nbformat": 4,
 "nbformat_minor": 2
}
