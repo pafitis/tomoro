{
 "cells": [
  {
   "cell_type": "markdown",
   "metadata": {},
   "source": [
    "# Model evaluations"
   ]
  },
  {
   "cell_type": "code",
   "execution_count": 1,
   "metadata": {},
   "outputs": [],
   "source": [
    "# Setup\n",
    "import pandas as pd\n",
    "import numpy as np\n",
    "import sys, os\n",
    "sys.path.append('..')\n",
    "\n",
    "from utils.eval_utils import evaluate_experiment\n",
    "from utils.model_utils import async_converse_llm\n",
    "from utils.data_utils import process_data_table\n",
    "\n",
    "# Reproducibility\n",
    "np.random.seed(1996)\n",
    "assert np.random.random() == 0.6193051167657804\n",
    "\n",
    "# Read, process, sample\n",
    "raw_data = pd.read_json('../data/train.json')\n",
    "all_prompts = process_data_table(raw_data)\n",
    "sample_prompts = np.random.choice(all_prompts, 100)\n",
    "\n",
    "from openai import AsyncOpenAI\n",
    "async_client = AsyncOpenAI(\n",
    "    api_key=os.environ.get('DEEPSEEK_API'),\n",
    "    base_url=\"https://api.deepseek.com\",\n",
    ")\n",
    "\n",
    "from time import time\n",
    "import asyncio"
   ]
  },
  {
   "cell_type": "markdown",
   "metadata": {},
   "source": [
    "## Experiment 1: Prompt 1\n",
    "\n",
    "> Asks for evaluated maths\n",
    "\n",
    "1. Uses `deepseek-chat`\n",
    "2. Uses full context\n",
    "3. Uses straight question\n",
    "4. Does not use example fewshots\n",
    "5. Uses SYSTEM_PROMPT_V1"
   ]
  },
  {
   "cell_type": "code",
   "execution_count": 3,
   "metadata": {},
   "outputs": [
    {
     "name": "stdout",
     "output_type": "stream",
     "text": [
      "\n",
      "    Act as a financial analysis specialist. Your responses must:\n",
      "    1. Strictly use only the contextual information provided by the user\n",
      "    2. Deliver the final answer in this exact format:\n",
      "        - Unitless numerical value\n",
      "        - Enclosed in \\boxed{} LaTeX formatting\n",
      "\n",
      "    Never reference external knowledge or assumptions. \n",
      "    Convert all scaled values to absolute numbers during calculations,\n",
      "    but omit units in the final answer.\n",
      "    \n"
     ]
    }
   ],
   "source": [
    "from utils.prompts import SYSTEM_PROMPT_V1\n",
    "\n",
    "print(SYSTEM_PROMPT_V1)"
   ]
  },
  {
   "cell_type": "code",
   "execution_count": 4,
   "metadata": {},
   "outputs": [
    {
     "name": "stdout",
     "output_type": "stream",
     "text": [
      "Metrics:\n",
      "            % correct: 0.451\n",
      "            % correct (percentage fix): 0.451\n",
      "        \n"
     ]
    }
   ],
   "source": [
    "if 'exp1.json' not in os.listdir('../results/'):\n",
    "\n",
    "    start_time = time()\n",
    "\n",
    "    tasks = []\n",
    "    for prompt in sample_prompts:\n",
    "        res = asyncio.create_task(\n",
    "            async_converse_llm(\n",
    "                processed_data_entry=prompt,\n",
    "                client=async_client,\n",
    "                model_name='deepseek-chat',\n",
    "\n",
    "                use_short_context=False,\n",
    "                question_to_use='question',\n",
    "                answers_to_use='answer',\n",
    "                example_shots='',\n",
    "                sys_prompt=SYSTEM_PROMPT_V1,\n",
    "                use_structured_outputs=False,\n",
    "                )\n",
    "        )\n",
    "        tasks.append(res)\n",
    "\n",
    "    results_exp1 = await asyncio.gather(*tasks)\n",
    "    \n",
    "    total_time = time() - start_time\n",
    "    minutes = int(total_time // 60)\n",
    "    seconds = total_time % 60\n",
    "    print(f\"\\nExecution time: {minutes} minutes and {seconds:.0f} seconds\")\n",
    "\n",
    "    pd.Series(results_exp1).to_json('../results/exp1.json')\n",
    "\n",
    "if 'exp1.json' in os.listdir('../results/'):\n",
    "    metrics_exp1 = evaluate_experiment('../results/exp1.json')"
   ]
  },
  {
   "cell_type": "markdown",
   "metadata": {},
   "source": [
    "## Experiment 2: Prompt 2\n",
    "\n",
    "> Asks for evaluated maths + reasoning\n",
    "\n",
    "1. Uses `deepseek-chat`\n",
    "2. Uses full context\n",
    "3. Uses straight question\n",
    "4. Does not use example fewshots\n",
    "5. Uses SYSTEM_PROMPT_V2"
   ]
  },
  {
   "cell_type": "code",
   "execution_count": 5,
   "metadata": {},
   "outputs": [
    {
     "name": "stdout",
     "output_type": "stream",
     "text": [
      "\n",
      "    Act as a financial analysis specialist. Your responses must:\n",
      "    1. Strictly use only the contextual information provided by the user\n",
      "    2. Explicitly show your logical reasoning process through sequential step-by-step explanations\n",
      "    3. Deliver the final answer in this exact format:\n",
      "        - Unitless numerical value\n",
      "        - Enclosed in \\boxed{} LaTeX formatting\n",
      "\n",
      "    Never reference external knowledge or assumptions. \n",
      "    Convert all scaled values to absolute numbers during calculations, \n",
      "    but omit units in the final answer.\n",
      "    \n"
     ]
    }
   ],
   "source": [
    "from utils.prompts import SYSTEM_PROMPT_V2\n",
    "\n",
    "print(SYSTEM_PROMPT_V2)"
   ]
  },
  {
   "cell_type": "code",
   "execution_count": 6,
   "metadata": {},
   "outputs": [
    {
     "name": "stdout",
     "output_type": "stream",
     "text": [
      "Metrics:\n",
      "            % correct: 0.534\n",
      "            % correct (percentage fix): 0.548\n",
      "        \n"
     ]
    }
   ],
   "source": [
    "if 'exp2.json' not in os.listdir('../results/'):\n",
    "\n",
    "    start_time = time()\n",
    "\n",
    "    tasks = []\n",
    "    for prompt in sample_prompts:\n",
    "        res = asyncio.create_task(\n",
    "            async_converse_llm(\n",
    "                processed_data_entry=prompt,\n",
    "                client=async_client,\n",
    "                model_name='deepseek-chat',\n",
    "\n",
    "                use_short_context=False,\n",
    "                question_to_use='question',\n",
    "                answers_to_use='answer',\n",
    "                example_shots='',\n",
    "                sys_prompt=SYSTEM_PROMPT_V2,\n",
    "                use_structured_outputs=False,\n",
    "                )\n",
    "        )\n",
    "        tasks.append(res)\n",
    "\n",
    "    results_exp2 = await asyncio.gather(*tasks)\n",
    "    \n",
    "    total_time = time() - start_time\n",
    "    minutes = int(total_time // 60)\n",
    "    seconds = total_time % 60\n",
    "    print(f\"\\nExecution time: {minutes} minutes and {seconds:.0f} seconds\")\n",
    "\n",
    "    pd.Series(results_exp2).to_json('../results/exp2.json')\n",
    "\n",
    "if 'exp2.json' in os.listdir('../results/'):\n",
    "    metrics_exp2 = evaluate_experiment('../results/exp2.json')"
   ]
  },
  {
   "cell_type": "markdown",
   "metadata": {},
   "source": [
    "## Experiment 3: Prompt 3\n",
    "> Uses maths operators + no evaluation\n",
    "\n",
    "1. Uses `deepseek-chat`\n",
    "2. Uses full context\n",
    "3. Uses straight question\n",
    "4. Does not use example fewshots\n",
    "5. Uses SYSTEM_PROMPT_V3"
   ]
  },
  {
   "cell_type": "code",
   "execution_count": 7,
   "metadata": {},
   "outputs": [
    {
     "name": "stdout",
     "output_type": "stream",
     "text": [
      "\n",
      "    Act as a financial computation engine. Required behavior:\n",
      "    1. Input Processing:\n",
      "    - Use ONLY context provided in the query\n",
      "    - Never incorporate external data or assumptions\n",
      "    2. Calculation Methodology:\n",
      "    - Perform and display calculations by using ONLY these Python-style operators:\n",
      "        - add(a, b) → a + b\n",
      "        - subtract(a, b) → a - b\n",
      "        - multiply(a, b) → a * b\n",
      "        - divide(a, b) → a / b\n",
      "        - power(a, b) → a^b\n",
      "    - Each operator must have EXACTLY two arguments\n",
      "    3. Output Requirements:\n",
      "    - Final answer must be:\n",
      "        - A nested combination of allowed operators\n",
      "        - In unevaluated functional form\n",
      "        - Expressed as \\boxed{operator(...)} LaTeX\n",
      "    - Include intermediate unit normalization calculations\n",
      "\n",
      "    Example: For \"Revenue per share - Cost per share = (5,000,000 revenue / 2,000,000 shares) - $5\"\n",
      "    Acceptable: \\boxed{subtract(divide(5000000, 2000000), 5)}\n",
      "    Unacceptable: \\boxed{2.5 - 5} or \\boxed{-2.5}\n",
      "\n"
     ]
    }
   ],
   "source": [
    "from utils.prompts import SYSTEM_PROMPT_V3\n",
    "\n",
    "print(SYSTEM_PROMPT_V3)"
   ]
  },
  {
   "cell_type": "code",
   "execution_count": 8,
   "metadata": {},
   "outputs": [
    {
     "name": "stdout",
     "output_type": "stream",
     "text": [
      "Metrics:\n",
      "            % correct: 0.408\n",
      "            % correct (percentage fix): 0.465\n",
      "        \n"
     ]
    }
   ],
   "source": [
    "if 'exp3.json' not in os.listdir('../results/'):\n",
    "\n",
    "    start_time = time()\n",
    "\n",
    "    tasks = []\n",
    "    for prompt in sample_prompts:\n",
    "        res = asyncio.create_task(\n",
    "            async_converse_llm(\n",
    "                processed_data_entry=prompt,\n",
    "                client=async_client,\n",
    "                model_name='deepseek-chat',\n",
    "\n",
    "                use_short_context=False,\n",
    "                question_to_use='question',\n",
    "                answers_to_use='answer',\n",
    "                example_shots='',\n",
    "                sys_prompt=SYSTEM_PROMPT_V3,\n",
    "                use_structured_outputs=False,\n",
    "                )\n",
    "        )\n",
    "        tasks.append(res)\n",
    "\n",
    "    results_exp3 = await asyncio.gather(*tasks)\n",
    "    \n",
    "    total_time = time() - start_time\n",
    "    minutes = int(total_time // 60)\n",
    "    seconds = total_time % 60\n",
    "    print(f\"\\nExecution time: {minutes} minutes and {seconds:.0f} seconds\")\n",
    "\n",
    "    pd.Series(results_exp3).to_json('../results/exp3.json')\n",
    "\n",
    "if 'exp3.json' in os.listdir('../results/'):\n",
    "    metrics_exp3 = evaluate_experiment('../results/exp3.json')"
   ]
  },
  {
   "cell_type": "markdown",
   "metadata": {},
   "source": [
    "## Experiment 4: Prompt 3\n",
    "\n",
    "> Uses broken-down questions (step-by-step)\n",
    "\n",
    "1. Uses `deepseek-chat`\n",
    "2. Uses full context\n",
    "4. Does not use example fewshots\n",
    "5. Uses SYSTEM_PROMPT_V3\n",
    "6. Uses maths operators + no evaluation\n",
    "7. Uses step by step questions rather than the straight question"
   ]
  },
  {
   "cell_type": "code",
   "execution_count": 9,
   "metadata": {},
   "outputs": [
    {
     "name": "stdout",
     "output_type": "stream",
     "text": [
      "\n",
      "    Act as a financial computation engine. Required behavior:\n",
      "    1. Input Processing:\n",
      "    - Use ONLY context provided in the query\n",
      "    - Never incorporate external data or assumptions\n",
      "    2. Calculation Methodology:\n",
      "    - Perform and display calculations by using ONLY these Python-style operators:\n",
      "        - add(a, b) → a + b\n",
      "        - subtract(a, b) → a - b\n",
      "        - multiply(a, b) → a * b\n",
      "        - divide(a, b) → a / b\n",
      "        - power(a, b) → a^b\n",
      "    - Each operator must have EXACTLY two arguments\n",
      "    3. Output Requirements:\n",
      "    - Final answer must be:\n",
      "        - A nested combination of allowed operators\n",
      "        - In unevaluated functional form\n",
      "        - Expressed as \\boxed{operator(...)} LaTeX\n",
      "    - Include intermediate unit normalization calculations\n",
      "\n",
      "    Example: For \"Revenue per share - Cost per share = (5,000,000 revenue / 2,000,000 shares) - $5\"\n",
      "    Acceptable: \\boxed{subtract(divide(5000000, 2000000), 5)}\n",
      "    Unacceptable: \\boxed{2.5 - 5} or \\boxed{-2.5}\n",
      "\n"
     ]
    }
   ],
   "source": [
    "from utils.prompts import SYSTEM_PROMPT_V3\n",
    "\n",
    "print(SYSTEM_PROMPT_V3)"
   ]
  },
  {
   "cell_type": "code",
   "execution_count": 10,
   "metadata": {},
   "outputs": [
    {
     "name": "stdout",
     "output_type": "stream",
     "text": [
      "\n",
      "Execution time: 42 minutes and 3 seconds\n",
      "Metrics:\n",
      "            % correct: 0.56\n",
      "            % correct (percentage fix): 0.625\n",
      "        \n"
     ]
    }
   ],
   "source": [
    "if 'exp4.json' not in os.listdir('../results/'):\n",
    "\n",
    "    start_time = time()\n",
    "\n",
    "    tasks = []\n",
    "    for prompt in sample_prompts:\n",
    "        res = asyncio.create_task(\n",
    "            async_converse_llm(\n",
    "                processed_data_entry=prompt,\n",
    "                client=async_client,\n",
    "                model_name='deepseek-chat',\n",
    "\n",
    "                use_short_context=False,\n",
    "                question_to_use='step_by_step_questions',\n",
    "                answers_to_use='step_by_step_answers',\n",
    "                example_shots='',\n",
    "                sys_prompt=SYSTEM_PROMPT_V3,\n",
    "                use_structured_outputs=False,\n",
    "                )\n",
    "        )\n",
    "        tasks.append(res)\n",
    "\n",
    "    results_exp4 = await asyncio.gather(*tasks)\n",
    "    \n",
    "    total_time = time() - start_time\n",
    "    minutes = int(total_time // 60)\n",
    "    seconds = total_time % 60\n",
    "    print(f\"\\nExecution time: {minutes} minutes and {seconds:.0f} seconds\")\n",
    "\n",
    "    pd.Series(results_exp4).to_json('../results/exp4.json')\n",
    "\n",
    "if 'exp4.json' in os.listdir('../results/'):\n",
    "    metrics_exp4 = evaluate_experiment('../results/exp4.json')"
   ]
  },
  {
   "cell_type": "markdown",
   "metadata": {},
   "source": [
    "## Experiment 5: Prompt 4\n",
    "\n",
    "> Uses structured outputs and broken-down questions (step-by-step)\n",
    "\n",
    "1. Uses `deepseek-chat`\n",
    "2. Uses full context\n",
    "4. Does not use example fewshots\n",
    "5. Uses SYSTEM_PROMPT_V4\n",
    "6. Uses maths operators + no evaluation\n",
    "7. Uses step by step questions rather than the straight question\n",
    "8. Uses structured output"
   ]
  },
  {
   "cell_type": "code",
   "execution_count": 11,
   "metadata": {},
   "outputs": [
    {
     "name": "stdout",
     "output_type": "stream",
     "text": [
      "\n",
      "    Act as a financial computation engine that outputs valid JSON. Required behavior:\n",
      "    1. Input Processing:\n",
      "    - Use ONLY context provided in the query\n",
      "    - Never incorporate external data or assumptions\n",
      "    2. Calculation Methodology:\n",
      "    - Perform and display calculations by using ONLY these Python-style operators:\n",
      "        - add(a, b) → a + b\n",
      "        - subtract(a, b) → a - b\n",
      "        - multiply(a, b) → a * b\n",
      "        - divide(a, b) → a / b\n",
      "        - power(a, b) → a^b\n",
      "    - Each operator must have EXACTLY two arguments\n",
      "    3. JSON Output Requirements:\n",
      "    - Structure response as valid JSON with this schema:\n",
      "        {\n",
      "            \"user_question\": \"string\",\n",
      "            \"user_context\": \"string\",\n",
      "            \"reasoning\": [\"step1\", \"step2\", ..., \"stepN\"],\n",
      "            \"final_answer\": \"boxed_expression\"\n",
      "        }\n",
      "    - Maintain atomic values in JSON (no complex objects)\n",
      "    - Escape special characters properly\n",
      "    - final_answer must use: \\boxed{operator(...)} format\n",
      "    \n",
      "    4. Compliance:\n",
      "    - Strictly follow JSON syntax\n",
      "    - No markdown formatting\n",
      "    - No additional explanations outside JSON structure\n",
      "\n",
      "    Example valid response:\n",
      "    {\n",
      "        \"user_question\": \"Calculate profit per share given 5M revenue and 2M shares with $5 fixed cost\",\n",
      "        \"user_context\": \"[Row 1] Revenue: 5,000,000\\n[Row 2] Shares: 2,000,000\\n[Row 3] Fixed cost per share: 5\",\n",
      "        \"reasoning\": [\n",
      "            \"1. Revenue per share - Cost per share\", \n",
      "            \"2. Convert 5M revenue to 5,000,000\",\n",
      "            \"3. Divide revenue by shares: 5,000,000/2,000,000\",\n",
      "            \"4. Subtract fixed cost per share from revenue per share\",\n",
      "            \"4. Use subtract() for subtraction and divide() for division\"\n",
      "        ],\n",
      "        \"final_answer\": \"\\boxed{subtract(divide(5000000, 2000000), 5)}\"\n",
      "    }\n",
      "\n"
     ]
    }
   ],
   "source": [
    "from utils.prompts import SYSTEM_PROMPT_V4\n",
    "\n",
    "print(SYSTEM_PROMPT_V4)"
   ]
  },
  {
   "cell_type": "code",
   "execution_count": null,
   "metadata": {},
   "outputs": [
    {
     "name": "stdout",
     "output_type": "stream",
     "text": [
      "\n",
      "Execution time: 30 minutes and 45 seconds\n",
      "Metrics:\n",
      "            % correct: 0.0\n",
      "            % correct (percentage fix): 0.0\n",
      "        \n"
     ]
    }
   ],
   "source": [
    "if 'exp5.json' not in os.listdir('../results/'):\n",
    "\n",
    "    start_time = time()\n",
    "\n",
    "    tasks = []\n",
    "    for prompt in sample_prompts:\n",
    "        res = asyncio.create_task(\n",
    "            async_converse_llm(\n",
    "                processed_data_entry=prompt,\n",
    "                client=async_client,\n",
    "                model_name='deepseek-chat',\n",
    "\n",
    "                use_short_context=False,\n",
    "                question_to_use='step_by_step_questions',\n",
    "                answers_to_use='step_by_step_answers',\n",
    "                example_shots='', # sys_prompt already has one-shot example\n",
    "                sys_prompt=SYSTEM_PROMPT_V4,\n",
    "                use_structured_outputs=True\n",
    "                )\n",
    "        )\n",
    "        tasks.append(res)\n",
    "\n",
    "    results_exp5 = await asyncio.gather(*tasks)\n",
    "    \n",
    "    total_time = time() - start_time\n",
    "    minutes = int(total_time // 60)\n",
    "    seconds = total_time % 60\n",
    "    print(f\"\\nExecution time: {minutes} minutes and {seconds:.0f} seconds\")\n",
    "\n",
    "    pd.Series(results_exp5).to_json('../results/exp5.json')\n",
    "\n",
    "if 'exp5.json' in os.listdir('../results/'):\n",
    "    metrics_exp5 = evaluate_experiment('../results/exp5.json')"
   ]
  },
  {
   "cell_type": "markdown",
   "metadata": {},
   "source": [
    "## Experiment 6: Prompt 4\n",
    "\n",
    "> Uses structured outputs and straight questions\n",
    "\n",
    "1. Uses `deepseek-chat`\n",
    "2. Uses full context\n",
    "4. Does not use example fewshots\n",
    "5. Uses SYSTEM_PROMPT_V4\n",
    "6. Uses maths operators + no evaluation\n",
    "7. Uses straight question\n",
    "8. Uses structured output"
   ]
  },
  {
   "cell_type": "code",
   "execution_count": 13,
   "metadata": {},
   "outputs": [
    {
     "name": "stdout",
     "output_type": "stream",
     "text": [
      "\n",
      "    Act as a financial computation engine that outputs valid JSON. Required behavior:\n",
      "    1. Input Processing:\n",
      "    - Use ONLY context provided in the query\n",
      "    - Never incorporate external data or assumptions\n",
      "    2. Calculation Methodology:\n",
      "    - Perform and display calculations by using ONLY these Python-style operators:\n",
      "        - add(a, b) → a + b\n",
      "        - subtract(a, b) → a - b\n",
      "        - multiply(a, b) → a * b\n",
      "        - divide(a, b) → a / b\n",
      "        - power(a, b) → a^b\n",
      "    - Each operator must have EXACTLY two arguments\n",
      "    3. JSON Output Requirements:\n",
      "    - Structure response as valid JSON with this schema:\n",
      "        {\n",
      "            \"user_question\": \"string\",\n",
      "            \"user_context\": \"string\",\n",
      "            \"reasoning\": [\"step1\", \"step2\", ..., \"stepN\"],\n",
      "            \"final_answer\": \"boxed_expression\"\n",
      "        }\n",
      "    - Maintain atomic values in JSON (no complex objects)\n",
      "    - Escape special characters properly\n",
      "    - final_answer must use: \\boxed{operator(...)} format\n",
      "    \n",
      "    4. Compliance:\n",
      "    - Strictly follow JSON syntax\n",
      "    - No markdown formatting\n",
      "    - No additional explanations outside JSON structure\n",
      "\n",
      "    Example valid response:\n",
      "    {\n",
      "        \"user_question\": \"Calculate profit per share given 5M revenue and 2M shares with $5 fixed cost\",\n",
      "        \"user_context\": \"[Row 1] Revenue: 5,000,000\\n[Row 2] Shares: 2,000,000\\n[Row 3] Fixed cost per share: 5\",\n",
      "        \"reasoning\": [\n",
      "            \"1. Revenue per share - Cost per share\", \n",
      "            \"2. Convert 5M revenue to 5,000,000\",\n",
      "            \"3. Divide revenue by shares: 5,000,000/2,000,000\",\n",
      "            \"4. Subtract fixed cost per share from revenue per share\",\n",
      "            \"4. Use subtract() for subtraction and divide() for division\"\n",
      "        ],\n",
      "        \"final_answer\": \"\\boxed{subtract(divide(5000000, 2000000), 5)}\"\n",
      "    }\n",
      "\n"
     ]
    }
   ],
   "source": [
    "from utils.prompts import SYSTEM_PROMPT_V4\n",
    "\n",
    "print(SYSTEM_PROMPT_V4)"
   ]
  },
  {
   "cell_type": "code",
   "execution_count": null,
   "metadata": {},
   "outputs": [
    {
     "name": "stdout",
     "output_type": "stream",
     "text": [
      "\n",
      "Execution time: 1 minutes and 20 seconds\n",
      "Metrics:\n",
      "            % correct: 0.0\n",
      "            % correct (percentage fix): 0.0\n",
      "        \n"
     ]
    }
   ],
   "source": [
    "if 'exp6.json' not in os.listdir('../results/'):\n",
    "\n",
    "    start_time = time()\n",
    "\n",
    "    tasks = []\n",
    "    for prompt in sample_prompts:\n",
    "        res = asyncio.create_task(\n",
    "            async_converse_llm(\n",
    "                processed_data_entry=prompt,\n",
    "                client=async_client,\n",
    "                model_name='deepseek-chat',\n",
    "\n",
    "                use_short_context=False,\n",
    "                question_to_use='question',\n",
    "                answers_to_use='answer',\n",
    "                example_shots='', # sys_prompt already has one-shot example\n",
    "                sys_prompt=SYSTEM_PROMPT_V4,\n",
    "                use_structured_outputs=True\n",
    "                )\n",
    "        )\n",
    "        tasks.append(res)\n",
    "\n",
    "    results_exp6 = await asyncio.gather(*tasks)\n",
    "    \n",
    "    total_time = time() - start_time\n",
    "    minutes = int(total_time // 60)\n",
    "    seconds = total_time % 60\n",
    "    print(f\"\\nExecution time: {minutes} minutes and {seconds:.0f} seconds\")\n",
    "\n",
    "    pd.Series(results_exp6).to_json('../results/exp6.json')\n",
    "\n",
    "if 'exp6.json' in os.listdir('../results/'):\n",
    "    metrics_exp6 = evaluate_experiment('../results/exp6.json')"
   ]
  },
  {
   "cell_type": "markdown",
   "metadata": {},
   "source": [
    "## Experiment 7: Prompt 3\n",
    "\n",
    "> Uses `deepseek-reasoner`, WITHOUT structured outputs, straight questions\n",
    "\n",
    "**`deepseek-reasoner` does not support structured outputs as of now**\n",
    "\n",
    "See: https://github.com/deepseek-ai/DeepSeek-R1/issues/9\n",
    "\n",
    "1. Uses full context\n",
    "2. Does not use example fewshots\n",
    "4. Uses SYSTEM_PROMPT_V3\n",
    "5. Uses maths operators + no evaluation\n",
    "6. Uses straight question\n",
    "7. Does not uses structured output"
   ]
  },
  {
   "cell_type": "code",
   "execution_count": 15,
   "metadata": {},
   "outputs": [
    {
     "name": "stdout",
     "output_type": "stream",
     "text": [
      "\n",
      "    Act as a financial computation engine. Required behavior:\n",
      "    1. Input Processing:\n",
      "    - Use ONLY context provided in the query\n",
      "    - Never incorporate external data or assumptions\n",
      "    2. Calculation Methodology:\n",
      "    - Perform and display calculations by using ONLY these Python-style operators:\n",
      "        - add(a, b) → a + b\n",
      "        - subtract(a, b) → a - b\n",
      "        - multiply(a, b) → a * b\n",
      "        - divide(a, b) → a / b\n",
      "        - power(a, b) → a^b\n",
      "    - Each operator must have EXACTLY two arguments\n",
      "    3. Output Requirements:\n",
      "    - Final answer must be:\n",
      "        - A nested combination of allowed operators\n",
      "        - In unevaluated functional form\n",
      "        - Expressed as \\boxed{operator(...)} LaTeX\n",
      "    - Include intermediate unit normalization calculations\n",
      "\n",
      "    Example: For \"Revenue per share - Cost per share = (5,000,000 revenue / 2,000,000 shares) - $5\"\n",
      "    Acceptable: \\boxed{subtract(divide(5000000, 2000000), 5)}\n",
      "    Unacceptable: \\boxed{2.5 - 5} or \\boxed{-2.5}\n",
      "\n"
     ]
    }
   ],
   "source": [
    "from utils.prompts import SYSTEM_PROMPT_V3\n",
    "\n",
    "print(SYSTEM_PROMPT_V3)"
   ]
  },
  {
   "cell_type": "code",
   "execution_count": 16,
   "metadata": {},
   "outputs": [
    {
     "name": "stdout",
     "output_type": "stream",
     "text": [
      "\n",
      "Execution time: 6 minutes and 31 seconds\n",
      "Metrics:\n",
      "            % correct: 0.508\n",
      "            % correct (percentage fix): 0.548\n",
      "        \n"
     ]
    }
   ],
   "source": [
    "if 'exp7.json' not in os.listdir('../results/'):\n",
    "\n",
    "    start_time = time()\n",
    "\n",
    "    tasks = []\n",
    "    for prompt in sample_prompts:\n",
    "        res = asyncio.create_task(\n",
    "            async_converse_llm(\n",
    "                processed_data_entry=prompt,\n",
    "                client=async_client,\n",
    "                model_name='deepseek-reasoner',\n",
    "\n",
    "                use_short_context=False,\n",
    "                question_to_use='question',\n",
    "                answers_to_use='answer',\n",
    "                example_shots='',\n",
    "                sys_prompt=SYSTEM_PROMPT_V3,\n",
    "                use_structured_outputs=False,\n",
    "                )\n",
    "        )\n",
    "        tasks.append(res)\n",
    "\n",
    "    results_exp7 = await asyncio.gather(*tasks)\n",
    "    \n",
    "    total_time = time() - start_time\n",
    "    minutes = int(total_time // 60)\n",
    "    seconds = total_time % 60\n",
    "    print(f\"\\nExecution time: {minutes} minutes and {seconds:.0f} seconds\")\n",
    "\n",
    "    pd.Series(results_exp7).to_json('../results/exp7.json')\n",
    "\n",
    "if 'exp7.json' in os.listdir('../results/'):\n",
    "    metrics_exp7 = evaluate_experiment('../results/exp7.json')"
   ]
  },
  {
   "cell_type": "markdown",
   "metadata": {},
   "source": [
    "### Experiment 8: Prompt 3\n",
    "\n",
    "> Uses `deepseek-reasoner`, WITHOUT structured outputs, step by step questions\n",
    "\n",
    "1. Uses full context\n",
    "2. Does not use example fewshots\n",
    "4. Uses SYSTEM_PROMPT_V3\n",
    "5. Uses maths operators + no evaluation\n",
    "6. Uses straight question\n",
    "7. Does not use structured output"
   ]
  },
  {
   "cell_type": "code",
   "execution_count": 17,
   "metadata": {},
   "outputs": [
    {
     "name": "stdout",
     "output_type": "stream",
     "text": [
      "\n",
      "    Act as a financial computation engine. Required behavior:\n",
      "    1. Input Processing:\n",
      "    - Use ONLY context provided in the query\n",
      "    - Never incorporate external data or assumptions\n",
      "    2. Calculation Methodology:\n",
      "    - Perform and display calculations by using ONLY these Python-style operators:\n",
      "        - add(a, b) → a + b\n",
      "        - subtract(a, b) → a - b\n",
      "        - multiply(a, b) → a * b\n",
      "        - divide(a, b) → a / b\n",
      "        - power(a, b) → a^b\n",
      "    - Each operator must have EXACTLY two arguments\n",
      "    3. Output Requirements:\n",
      "    - Final answer must be:\n",
      "        - A nested combination of allowed operators\n",
      "        - In unevaluated functional form\n",
      "        - Expressed as \\boxed{operator(...)} LaTeX\n",
      "    - Include intermediate unit normalization calculations\n",
      "\n",
      "    Example: For \"Revenue per share - Cost per share = (5,000,000 revenue / 2,000,000 shares) - $5\"\n",
      "    Acceptable: \\boxed{subtract(divide(5000000, 2000000), 5)}\n",
      "    Unacceptable: \\boxed{2.5 - 5} or \\boxed{-2.5}\n",
      "\n"
     ]
    }
   ],
   "source": [
    "from utils.prompts import SYSTEM_PROMPT_V3\n",
    "\n",
    "print(SYSTEM_PROMPT_V3)"
   ]
  },
  {
   "cell_type": "code",
   "execution_count": 18,
   "metadata": {},
   "outputs": [
    {
     "name": "stdout",
     "output_type": "stream",
     "text": [
      "\n",
      "Execution time: 6 minutes and 39 seconds\n",
      "Metrics:\n",
      "            % correct: 0.5\n",
      "            % correct (percentage fix): 0.599\n",
      "        \n"
     ]
    }
   ],
   "source": [
    "if 'exp8.json' not in os.listdir('../results/'):\n",
    "\n",
    "    start_time = time()\n",
    "\n",
    "    tasks = []\n",
    "    for prompt in sample_prompts:\n",
    "        res = asyncio.create_task(\n",
    "            async_converse_llm(\n",
    "                processed_data_entry=prompt,\n",
    "                client=async_client,\n",
    "                model_name='deepseek-reasoner',\n",
    "\n",
    "                use_short_context=False,\n",
    "                question_to_use='step_by_step_questions',\n",
    "                answers_to_use='step_by_step_answers',\n",
    "                example_shots='',\n",
    "                sys_prompt=SYSTEM_PROMPT_V3,\n",
    "                use_structured_outputs=False\n",
    "                )\n",
    "        )\n",
    "        tasks.append(res)\n",
    "\n",
    "    results_exp8 = await asyncio.gather(*tasks)\n",
    "    \n",
    "    total_time = time() - start_time\n",
    "    minutes = int(total_time // 60)\n",
    "    seconds = total_time % 60\n",
    "    print(f\"\\nExecution time: {minutes} minutes and {seconds:.0f} seconds\")\n",
    "\n",
    "    pd.Series(results_exp8).to_json('../results/exp8.json')\n",
    "\n",
    "if 'exp8.json' in os.listdir('../results/'):\n",
    "    metrics_exp8 = evaluate_experiment('../results/exp8.json')"
   ]
  },
  {
   "cell_type": "markdown",
   "metadata": {},
   "source": [
    "### Experiment 9: Prompt 3\n",
    "\n",
    "> Uses `deepseek-reasoner`, WITHOUT structured outputs, step by step questions, short context\n",
    "\n",
    "1. Uses short context\n",
    "2. Does not use example fewshots\n",
    "4. Uses SYSTEM_PROMPT_V3\n",
    "5. Uses maths operators + no evaluation\n",
    "6. Uses straight question\n",
    "7. Does not use structured output"
   ]
  },
  {
   "cell_type": "code",
   "execution_count": 2,
   "metadata": {},
   "outputs": [
    {
     "name": "stdout",
     "output_type": "stream",
     "text": [
      "\n",
      "    Act as a financial computation engine. Required behavior:\n",
      "    1. Input Processing:\n",
      "    - Use ONLY context provided in the query\n",
      "    - Never incorporate external data or assumptions\n",
      "    2. Calculation Methodology:\n",
      "    - Perform and display calculations by using ONLY these Python-style operators:\n",
      "        - add(a, b) → a + b\n",
      "        - subtract(a, b) → a - b\n",
      "        - multiply(a, b) → a * b\n",
      "        - divide(a, b) → a / b\n",
      "        - power(a, b) → a^b\n",
      "    - Each operator must have EXACTLY two arguments\n",
      "    3. Output Requirements:\n",
      "    - Final answer must be:\n",
      "        - A nested combination of allowed operators\n",
      "        - In unevaluated functional form\n",
      "        - Expressed as \\boxed{operator(...)} LaTeX\n",
      "    - Include intermediate unit normalization calculations\n",
      "\n",
      "    Example: For \"Revenue per share - Cost per share = (5,000,000 revenue / 2,000,000 shares) - $5\"\n",
      "    Acceptable: \\boxed{subtract(divide(5000000, 2000000), 5)}\n",
      "    Unacceptable: \\boxed{2.5 - 5} or \\boxed{-2.5}\n",
      "\n"
     ]
    }
   ],
   "source": [
    "from utils.prompts import SYSTEM_PROMPT_V3\n",
    "\n",
    "print(SYSTEM_PROMPT_V3)"
   ]
  },
  {
   "cell_type": "code",
   "execution_count": 3,
   "metadata": {},
   "outputs": [
    {
     "name": "stdout",
     "output_type": "stream",
     "text": [
      "\n",
      "Execution time: 11 minutes and 14 seconds\n",
      "Metrics:\n",
      "            % correct: 0.435\n",
      "            % correct (percentage fix): 0.511\n",
      "        \n"
     ]
    }
   ],
   "source": [
    "if 'exp9.json' not in os.listdir('../results/'):\n",
    "\n",
    "    start_time = time()\n",
    "\n",
    "    tasks = []\n",
    "    for prompt in sample_prompts:\n",
    "        res = asyncio.create_task(\n",
    "            async_converse_llm(\n",
    "                processed_data_entry=prompt,\n",
    "                client=async_client,\n",
    "                model_name='deepseek-reasoner',\n",
    "\n",
    "                use_short_context=True,\n",
    "                question_to_use='step_by_step_questions',\n",
    "                answers_to_use='step_by_step_answers',\n",
    "                example_shots='',\n",
    "                sys_prompt=SYSTEM_PROMPT_V3,\n",
    "                use_structured_outputs=False\n",
    "                )\n",
    "        )\n",
    "        tasks.append(res)\n",
    "\n",
    "    results_exp9 = await asyncio.gather(*tasks)\n",
    "    \n",
    "    total_time = time() - start_time\n",
    "    minutes = int(total_time // 60)\n",
    "    seconds = total_time % 60\n",
    "    print(f\"\\nExecution time: {minutes} minutes and {seconds:.0f} seconds\")\n",
    "\n",
    "    pd.Series(results_exp9).to_json('../results/exp9.json')\n",
    "\n",
    "if 'exp9.json' in os.listdir('../results/'):\n",
    "    metrics_exp9 = evaluate_experiment('../results/exp9.json')"
   ]
  },
  {
   "cell_type": "markdown",
   "metadata": {},
   "source": [
    "### Experiment 10: Prompt 3\n",
    "\n",
    "> Uses `deepseek-reasoner`, WITHOUT structured outputs, step by step questions, golden context\n",
    "\n",
    "1. Uses golden context\n",
    "2. Does not use example fewshots\n",
    "4. Uses SYSTEM_PROMPT_V3\n",
    "5. Uses maths operators + no evaluation\n",
    "6. Uses straight question\n",
    "7. Does not use structured output"
   ]
  },
  {
   "cell_type": "code",
   "execution_count": 2,
   "metadata": {},
   "outputs": [
    {
     "name": "stdout",
     "output_type": "stream",
     "text": [
      "\n",
      "    Act as a financial computation engine. Required behavior:\n",
      "    1. Input Processing:\n",
      "    - Use ONLY context provided in the query\n",
      "    - Never incorporate external data or assumptions\n",
      "    2. Calculation Methodology:\n",
      "    - Perform and display calculations by using ONLY these Python-style operators:\n",
      "        - add(a, b) → a + b\n",
      "        - subtract(a, b) → a - b\n",
      "        - multiply(a, b) → a * b\n",
      "        - divide(a, b) → a / b\n",
      "        - power(a, b) → a^b\n",
      "    - Each operator must have EXACTLY two arguments\n",
      "    3. Output Requirements:\n",
      "    - Final answer must be:\n",
      "        - A nested combination of allowed operators\n",
      "        - In unevaluated functional form\n",
      "        - Expressed as \\boxed{operator(...)} LaTeX\n",
      "    - Include intermediate unit normalization calculations\n",
      "\n",
      "    Example: For \"Revenue per share - Cost per share = (5,000,000 revenue / 2,000,000 shares) - $5\"\n",
      "    Acceptable: \\boxed{subtract(divide(5000000, 2000000), 5)}\n",
      "    Unacceptable: \\boxed{2.5 - 5} or \\boxed{-2.5}\n",
      "\n"
     ]
    }
   ],
   "source": [
    "from utils.prompts import SYSTEM_PROMPT_V3\n",
    "\n",
    "print(SYSTEM_PROMPT_V3)"
   ]
  },
  {
   "cell_type": "code",
   "execution_count": 3,
   "metadata": {},
   "outputs": [
    {
     "name": "stdout",
     "output_type": "stream",
     "text": [
      "\n",
      "Execution time: 9 minutes and 39 seconds\n",
      "Metrics:\n",
      "            % correct: 0.514\n",
      "            % correct (percentage fix): 0.633\n",
      "        \n"
     ]
    }
   ],
   "source": [
    "if 'exp10.json' not in os.listdir('../results/'):\n",
    "\n",
    "    start_time = time()\n",
    "\n",
    "    tasks = []\n",
    "    for prompt in sample_prompts:\n",
    "        res = asyncio.create_task(\n",
    "            async_converse_llm(\n",
    "                processed_data_entry=prompt,\n",
    "                client=async_client,\n",
    "                model_name='deepseek-reasoner',\n",
    "\n",
    "                use_gold_inds=True,\n",
    "                question_to_use='step_by_step_questions',\n",
    "                answers_to_use='step_by_step_answers',\n",
    "                example_shots='',\n",
    "                sys_prompt=SYSTEM_PROMPT_V3,\n",
    "                use_structured_outputs=False\n",
    "                )\n",
    "        )\n",
    "        tasks.append(res)\n",
    "\n",
    "    results_exp10 = await asyncio.gather(*tasks)\n",
    "    \n",
    "    total_time = time() - start_time\n",
    "    minutes = int(total_time // 60)\n",
    "    seconds = total_time % 60\n",
    "    print(f\"\\nExecution time: {minutes} minutes and {seconds:.0f} seconds\")\n",
    "\n",
    "    pd.Series(results_exp10).to_json('../results/exp10.json')\n",
    "\n",
    "if 'exp10.json' in os.listdir('../results/'):\n",
    "    metrics_exp10 = evaluate_experiment('../results/exp10.json')"
   ]
  },
  {
   "cell_type": "markdown",
   "metadata": {},
   "source": [
    "# Deep dive"
   ]
  }
 ],
 "metadata": {
  "kernelspec": {
   "display_name": "finseek",
   "language": "python",
   "name": "python3"
  },
  "language_info": {
   "codemirror_mode": {
    "name": "ipython",
    "version": 3
   },
   "file_extension": ".py",
   "mimetype": "text/x-python",
   "name": "python",
   "nbconvert_exporter": "python",
   "pygments_lexer": "ipython3",
   "version": "3.12.7"
  }
 },
 "nbformat": 4,
 "nbformat_minor": 2
}
