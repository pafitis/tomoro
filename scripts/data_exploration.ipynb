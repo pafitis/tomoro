{
 "cells": [
  {
   "cell_type": "markdown",
   "metadata": {},
   "source": [
    "# Setup"
   ]
  },
  {
   "cell_type": "code",
   "execution_count": 1,
   "metadata": {},
   "outputs": [],
   "source": [
    "import numpy as np\n",
    "import pandas as pd\n",
    "import matplotlib.pyplot as plt\n",
    "import json"
   ]
  },
  {
   "cell_type": "markdown",
   "metadata": {},
   "source": [
    "# Load"
   ]
  },
  {
   "cell_type": "code",
   "execution_count": 2,
   "metadata": {},
   "outputs": [
    {
     "data": {
      "text/html": [
       "<div>\n",
       "<style scoped>\n",
       "    .dataframe tbody tr th:only-of-type {\n",
       "        vertical-align: middle;\n",
       "    }\n",
       "\n",
       "    .dataframe tbody tr th {\n",
       "        vertical-align: top;\n",
       "    }\n",
       "\n",
       "    .dataframe thead th {\n",
       "        text-align: right;\n",
       "    }\n",
       "</style>\n",
       "<table border=\"1\" class=\"dataframe\">\n",
       "  <thead>\n",
       "    <tr style=\"text-align: right;\">\n",
       "      <th></th>\n",
       "      <th>pre_text</th>\n",
       "      <th>post_text</th>\n",
       "      <th>filename</th>\n",
       "      <th>table_ori</th>\n",
       "      <th>table</th>\n",
       "      <th>qa</th>\n",
       "      <th>id</th>\n",
       "      <th>annotation</th>\n",
       "      <th>qa_0</th>\n",
       "      <th>qa_1</th>\n",
       "    </tr>\n",
       "  </thead>\n",
       "  <tbody>\n",
       "    <tr>\n",
       "      <th>0</th>\n",
       "      <td>[26 | 2009 annual report in fiscal 2008 , reve...</td>\n",
       "      <td>[year ended june 30 , cash provided by operati...</td>\n",
       "      <td>JKHY/2009/page_28.pdf</td>\n",
       "      <td>[[, Year ended June 30, 2009], [2008, 2007], [...</td>\n",
       "      <td>[[2008, year ended june 30 2009 2008, year end...</td>\n",
       "      <td>{'question': 'what was the percentage change i...</td>\n",
       "      <td>Single_JKHY/2009/page_28.pdf-3</td>\n",
       "      <td>{'amt_table': '&lt;table class='wikitable'&gt;&lt;tr&gt;&lt;t...</td>\n",
       "      <td>NaN</td>\n",
       "      <td>NaN</td>\n",
       "    </tr>\n",
       "    <tr>\n",
       "      <th>1</th>\n",
       "      <td>[substantially all of the goodwill and other i...</td>\n",
       "      <td>[the above unaudited pro forma financial infor...</td>\n",
       "      <td>RSG/2008/page_114.pdf</td>\n",
       "      <td>[[, Year Ended December 31, 2008 (Unaudited), ...</td>\n",
       "      <td>[[, year ended december 31 2008 ( unaudited ),...</td>\n",
       "      <td>{'question': 'what was the percent of the grow...</td>\n",
       "      <td>Single_RSG/2008/page_114.pdf-2</td>\n",
       "      <td>{'amt_table': '&lt;table class='wikitable'&gt;&lt;tr&gt;&lt;t...</td>\n",
       "      <td>NaN</td>\n",
       "      <td>NaN</td>\n",
       "    </tr>\n",
       "    <tr>\n",
       "      <th>2</th>\n",
       "      <td>[in a new business model such as the retail se...</td>\n",
       "      <td>[.]</td>\n",
       "      <td>AAPL/2002/page_23.pdf</td>\n",
       "      <td>[[, 2002, 2001, 2000], [Net sales, $5,742, $5,...</td>\n",
       "      <td>[[, 2002, 2001, 2000], [net sales, $ 5742, $ 5...</td>\n",
       "      <td>{'question': 'what was the percentage change i...</td>\n",
       "      <td>Single_AAPL/2002/page_23.pdf-1</td>\n",
       "      <td>{'amt_table': '&lt;table class='wikitable'&gt;&lt;tr&gt;&lt;t...</td>\n",
       "      <td>NaN</td>\n",
       "      <td>NaN</td>\n",
       "    </tr>\n",
       "    <tr>\n",
       "      <th>3</th>\n",
       "      <td>[( 1 ) includes shares repurchased through our...</td>\n",
       "      <td>[.]</td>\n",
       "      <td>UPS/2009/page_33.pdf</td>\n",
       "      <td>[[, 12/31/04, 12/31/05, 12/31/06, 12/31/07, 12...</td>\n",
       "      <td>[[, 12/31/04, 12/31/05, 12/31/06, 12/31/07, 12...</td>\n",
       "      <td>{'question': 'what was the difference in perce...</td>\n",
       "      <td>Single_UPS/2009/page_33.pdf-2</td>\n",
       "      <td>{'amt_table': '&lt;table class='wikitable'&gt;&lt;tr&gt;&lt;t...</td>\n",
       "      <td>NaN</td>\n",
       "      <td>NaN</td>\n",
       "    </tr>\n",
       "    <tr>\n",
       "      <th>4</th>\n",
       "      <td>[( 1 ) includes shares repurchased through our...</td>\n",
       "      <td>[.]</td>\n",
       "      <td>UPS/2009/page_33.pdf</td>\n",
       "      <td>[[, 12/31/04, 12/31/05, 12/31/06, 12/31/07, 12...</td>\n",
       "      <td>[[, 12/31/04, 12/31/05, 12/31/06, 12/31/07, 12...</td>\n",
       "      <td>NaN</td>\n",
       "      <td>Double_UPS/2009/page_33.pdf</td>\n",
       "      <td>{'amt_table': '&lt;table class='wikitable'&gt;&lt;tr&gt;&lt;t...</td>\n",
       "      <td>{'question': 'what is the roi of an investment...</td>\n",
       "      <td>{'question': 'what was the difference in perce...</td>\n",
       "    </tr>\n",
       "  </tbody>\n",
       "</table>\n",
       "</div>"
      ],
      "text/plain": [
       "                                            pre_text  \\\n",
       "0  [26 | 2009 annual report in fiscal 2008 , reve...   \n",
       "1  [substantially all of the goodwill and other i...   \n",
       "2  [in a new business model such as the retail se...   \n",
       "3  [( 1 ) includes shares repurchased through our...   \n",
       "4  [( 1 ) includes shares repurchased through our...   \n",
       "\n",
       "                                           post_text               filename  \\\n",
       "0  [year ended june 30 , cash provided by operati...  JKHY/2009/page_28.pdf   \n",
       "1  [the above unaudited pro forma financial infor...  RSG/2008/page_114.pdf   \n",
       "2                                                [.]  AAPL/2002/page_23.pdf   \n",
       "3                                                [.]   UPS/2009/page_33.pdf   \n",
       "4                                                [.]   UPS/2009/page_33.pdf   \n",
       "\n",
       "                                           table_ori  \\\n",
       "0  [[, Year ended June 30, 2009], [2008, 2007], [...   \n",
       "1  [[, Year Ended December 31, 2008 (Unaudited), ...   \n",
       "2  [[, 2002, 2001, 2000], [Net sales, $5,742, $5,...   \n",
       "3  [[, 12/31/04, 12/31/05, 12/31/06, 12/31/07, 12...   \n",
       "4  [[, 12/31/04, 12/31/05, 12/31/06, 12/31/07, 12...   \n",
       "\n",
       "                                               table  \\\n",
       "0  [[2008, year ended june 30 2009 2008, year end...   \n",
       "1  [[, year ended december 31 2008 ( unaudited ),...   \n",
       "2  [[, 2002, 2001, 2000], [net sales, $ 5742, $ 5...   \n",
       "3  [[, 12/31/04, 12/31/05, 12/31/06, 12/31/07, 12...   \n",
       "4  [[, 12/31/04, 12/31/05, 12/31/06, 12/31/07, 12...   \n",
       "\n",
       "                                                  qa  \\\n",
       "0  {'question': 'what was the percentage change i...   \n",
       "1  {'question': 'what was the percent of the grow...   \n",
       "2  {'question': 'what was the percentage change i...   \n",
       "3  {'question': 'what was the difference in perce...   \n",
       "4                                                NaN   \n",
       "\n",
       "                               id  \\\n",
       "0  Single_JKHY/2009/page_28.pdf-3   \n",
       "1  Single_RSG/2008/page_114.pdf-2   \n",
       "2  Single_AAPL/2002/page_23.pdf-1   \n",
       "3   Single_UPS/2009/page_33.pdf-2   \n",
       "4     Double_UPS/2009/page_33.pdf   \n",
       "\n",
       "                                          annotation  \\\n",
       "0  {'amt_table': '<table class='wikitable'><tr><t...   \n",
       "1  {'amt_table': '<table class='wikitable'><tr><t...   \n",
       "2  {'amt_table': '<table class='wikitable'><tr><t...   \n",
       "3  {'amt_table': '<table class='wikitable'><tr><t...   \n",
       "4  {'amt_table': '<table class='wikitable'><tr><t...   \n",
       "\n",
       "                                                qa_0  \\\n",
       "0                                                NaN   \n",
       "1                                                NaN   \n",
       "2                                                NaN   \n",
       "3                                                NaN   \n",
       "4  {'question': 'what is the roi of an investment...   \n",
       "\n",
       "                                                qa_1  \n",
       "0                                                NaN  \n",
       "1                                                NaN  \n",
       "2                                                NaN  \n",
       "3                                                NaN  \n",
       "4  {'question': 'what was the difference in perce...  "
      ]
     },
     "execution_count": 2,
     "metadata": {},
     "output_type": "execute_result"
    }
   ],
   "source": [
    "raw_data = pd.read_json('../data/train.json')\n",
    "raw_data.head()"
   ]
  },
  {
   "cell_type": "markdown",
   "metadata": {},
   "source": [
    "# Investigation"
   ]
  },
  {
   "cell_type": "markdown",
   "metadata": {},
   "source": [
    "- Questions are stored under the `.qa` column\n",
    "- Tables are stored under the `.table` column\n",
    "\n",
    "- Need to investigate what these are:\n",
    "    - `.pre_text`\n",
    "    - `.post_text`\n",
    "    - `.table_ori`\n",
    "    - `.annotation`\n",
    "\n",
    "- Likely not relevant to us:\n",
    "    - `.filename`\n",
    "    - `.id`"
   ]
  },
  {
   "cell_type": "markdown",
   "metadata": {},
   "source": [
    "### Investigating the `.qa` column\n"
   ]
  },
  {
   "cell_type": "code",
   "execution_count": 205,
   "metadata": {},
   "outputs": [
    {
     "data": {
      "text/plain": [
       "pre_text      [26 | 2009 annual report in fiscal 2008 , reve...\n",
       "post_text     [year ended june 30 , cash provided by operati...\n",
       "filename                                  JKHY/2009/page_28.pdf\n",
       "table_ori     [[, Year ended June 30, 2009], [2008, 2007], [...\n",
       "table         [[2008, year ended june 30 2009 2008, year end...\n",
       "qa            {'question': 'what was the percentage change i...\n",
       "id                               Single_JKHY/2009/page_28.pdf-3\n",
       "annotation    {'amt_table': '<table class='wikitable'><tr><t...\n",
       "qa_0                                                        NaN\n",
       "qa_1                                                        NaN\n",
       "Name: 0, dtype: object"
      ]
     },
     "execution_count": 205,
     "metadata": {},
     "output_type": "execute_result"
    }
   ],
   "source": [
    "sample_question = raw_data.iloc[0]\n",
    "sample_question"
   ]
  },
  {
   "cell_type": "code",
   "execution_count": 206,
   "metadata": {},
   "outputs": [
    {
     "data": {
      "text/plain": [
       "{'question': 'what was the percentage change in the net cash from operating activities from 2008 to 2009',\n",
       " 'answer': '14.1%',\n",
       " 'explanation': '',\n",
       " 'ann_table_rows': [6],\n",
       " 'ann_text_rows': [],\n",
       " 'steps': [{'op': 'minus2-1',\n",
       "   'arg1': '206588',\n",
       "   'arg2': '181001',\n",
       "   'res': '25587'},\n",
       "  {'op': 'divide2-2', 'arg1': '#0', 'arg2': '181001', 'res': '14.1%'}],\n",
       " 'program': 'subtract(206588, 181001), divide(#0, 181001)',\n",
       " 'gold_inds': {'table_6': '2008 the net cash from operating activities of year ended june 30 2009 2008 is $ 206588 ; the net cash from operating activities of year ended june 30 2009 2008 is $ 181001 ; the net cash from operating activities of year ended june 30 2009 is $ 174247 ;'},\n",
       " 'exe_ans': 0.14136,\n",
       " 'program_re': 'divide(subtract(206588, 181001), 181001)'}"
      ]
     },
     "execution_count": 206,
     "metadata": {},
     "output_type": "execute_result"
    }
   ],
   "source": [
    "sample_question.qa"
   ]
  },
  {
   "cell_type": "markdown",
   "metadata": {},
   "source": [
    "- `pre_text` holds the context before the table appears, `table` and `table_ori` hold the table info, `post_text` holds the context after the table\n",
    "    - from what I see, `table` is just the lower case version of `table_ori`; no real text cleaning has been performed\n",
    "- `qa` holds critical information such as\n",
    "    - `question` and `answer` are self explanatory and easily digested\n",
    "    - `exe_ans` gives an exact answer in numerical form\n",
    "- `steps`/`op` appears to be the breakdown of the mathematical operations needed; `program` is the programatical representation of the `steps`/`op`\n",
    "    - `program_re` combines the steps together into a single operation **This will be most useful**\n",
    "\n",
    "- `gold_inds` is interesting; *it appears to be the golden extract from the table?*\n",
    "    - `table_6` hints at the row number\n",
    "    - the information within the table appears somewhat erroneous, unless I'm misunderstanding it\n",
    "    - initially thought that my ingestion method caused issues in the column names/headers but I don't think that's the case\n",
    "    - compare the `sample_question.qa.gold_inds` and my `pd.DataFrame(sample_question.table)`\n",
    "        - `june 30 2009 2008` continuously appears to be the column name/ header for multiple rows\n",
    "\n",
    "- Less important\n",
    "    - `ann_table_rows` appears to show which row is the relevant one within the table (see: `sample_question.table` row 6)"
   ]
  },
  {
   "cell_type": "code",
   "execution_count": 207,
   "metadata": {},
   "outputs": [
    {
     "name": "stdout",
     "output_type": "stream",
     "text": [
      "{'table_6': '2008 the net cash from operating activities of year ended june 30 2009 2008 is $ 206588 ; the net cash from operating activities of year ended june 30 2009 2008 is $ 181001 ; the net cash from operating activities of year ended june 30 2009 is $ 174247 ;'}\n"
     ]
    },
    {
     "data": {
      "text/html": [
       "<div>\n",
       "<style scoped>\n",
       "    .dataframe tbody tr th:only-of-type {\n",
       "        vertical-align: middle;\n",
       "    }\n",
       "\n",
       "    .dataframe tbody tr th {\n",
       "        vertical-align: top;\n",
       "    }\n",
       "\n",
       "    .dataframe thead th {\n",
       "        text-align: right;\n",
       "    }\n",
       "</style>\n",
       "<table border=\"1\" class=\"dataframe\">\n",
       "  <thead>\n",
       "    <tr style=\"text-align: right;\">\n",
       "      <th></th>\n",
       "      <th>0</th>\n",
       "      <th>1</th>\n",
       "      <th>2</th>\n",
       "      <th>3</th>\n",
       "    </tr>\n",
       "  </thead>\n",
       "  <tbody>\n",
       "    <tr>\n",
       "      <th>0</th>\n",
       "      <td>2008</td>\n",
       "      <td>year ended june 30 2009 2008</td>\n",
       "      <td>year ended june 30 2009 2008</td>\n",
       "      <td>year ended june 30 2009</td>\n",
       "    </tr>\n",
       "    <tr>\n",
       "      <th>1</th>\n",
       "      <td>net income</td>\n",
       "      <td>$ 103102</td>\n",
       "      <td>$ 104222</td>\n",
       "      <td>$ 104681</td>\n",
       "    </tr>\n",
       "    <tr>\n",
       "      <th>2</th>\n",
       "      <td>non-cash expenses</td>\n",
       "      <td>74397</td>\n",
       "      <td>70420</td>\n",
       "      <td>56348</td>\n",
       "    </tr>\n",
       "    <tr>\n",
       "      <th>3</th>\n",
       "      <td>change in receivables</td>\n",
       "      <td>21214</td>\n",
       "      <td>-2913 ( 2913 )</td>\n",
       "      <td>-28853 ( 28853 )</td>\n",
       "    </tr>\n",
       "    <tr>\n",
       "      <th>4</th>\n",
       "      <td>change in deferred revenue</td>\n",
       "      <td>21943</td>\n",
       "      <td>5100</td>\n",
       "      <td>24576</td>\n",
       "    </tr>\n",
       "    <tr>\n",
       "      <th>5</th>\n",
       "      <td>change in other assets and liabilities</td>\n",
       "      <td>-14068 ( 14068 )</td>\n",
       "      <td>4172</td>\n",
       "      <td>17495</td>\n",
       "    </tr>\n",
       "    <tr>\n",
       "      <th>6</th>\n",
       "      <td>net cash from operating activities</td>\n",
       "      <td>$ 206588</td>\n",
       "      <td>$ 181001</td>\n",
       "      <td>$ 174247</td>\n",
       "    </tr>\n",
       "  </tbody>\n",
       "</table>\n",
       "</div>"
      ],
      "text/plain": [
       "                                        0                             1  \\\n",
       "0                                    2008  year ended june 30 2009 2008   \n",
       "1                              net income                      $ 103102   \n",
       "2                       non-cash expenses                         74397   \n",
       "3                   change in receivables                         21214   \n",
       "4              change in deferred revenue                         21943   \n",
       "5  change in other assets and liabilities              -14068 ( 14068 )   \n",
       "6      net cash from operating activities                      $ 206588   \n",
       "\n",
       "                              2                        3  \n",
       "0  year ended june 30 2009 2008  year ended june 30 2009  \n",
       "1                      $ 104222                 $ 104681  \n",
       "2                         70420                    56348  \n",
       "3                -2913 ( 2913 )         -28853 ( 28853 )  \n",
       "4                          5100                    24576  \n",
       "5                          4172                    17495  \n",
       "6                      $ 181001                 $ 174247  "
      ]
     },
     "execution_count": 207,
     "metadata": {},
     "output_type": "execute_result"
    }
   ],
   "source": [
    "print(sample_question['qa']['gold_inds'])\n",
    "\n",
    "pd.DataFrame(sample_question.table)"
   ]
  },
  {
   "cell_type": "markdown",
   "metadata": {},
   "source": [
    "### Investigating another question\n",
    "\n",
    "This doesn't appear to be the issue in the second example. Data is not perfect, obviously"
   ]
  },
  {
   "cell_type": "code",
   "execution_count": 54,
   "metadata": {},
   "outputs": [
    {
     "data": {
      "text/plain": [
       "pre_text      [substantially all of the goodwill and other i...\n",
       "post_text     [the above unaudited pro forma financial infor...\n",
       "filename                                  RSG/2008/page_114.pdf\n",
       "table_ori     [[, Year Ended December 31, 2008 (Unaudited), ...\n",
       "table         [[, year ended december 31 2008 ( unaudited ),...\n",
       "qa            {'question': 'what was the percent of the grow...\n",
       "id                               Single_RSG/2008/page_114.pdf-2\n",
       "annotation    {'amt_table': '<table class='wikitable'><tr><t...\n",
       "qa_0                                                        NaN\n",
       "qa_1                                                        NaN\n",
       "Name: 1, dtype: object"
      ]
     },
     "execution_count": 54,
     "metadata": {},
     "output_type": "execute_result"
    }
   ],
   "source": [
    "sample_question = raw_data.iloc[1]\n",
    "sample_question"
   ]
  },
  {
   "cell_type": "code",
   "execution_count": 55,
   "metadata": {},
   "outputs": [
    {
     "data": {
      "text/plain": [
       "{'question': 'what was the percent of the growth in the revenues from 2007 to 2008',\n",
       " 'answer': '1.3%',\n",
       " 'explanation': 'the percent growth of the revenue is the difference between the 2 divide by the oldest amount',\n",
       " 'ann_table_rows': [1],\n",
       " 'ann_text_rows': [],\n",
       " 'steps': [{'op': 'minus2-1',\n",
       "   'arg1': '9362.2',\n",
       "   'arg2': '9244.9',\n",
       "   'res': '117.3'},\n",
       "  {'op': 'divide2-2', 'arg1': '#0', 'arg2': '9244.9', 'res': '1.3%'}],\n",
       " 'program': 'subtract(9362.2, 9244.9), divide(#0, 9244.9)',\n",
       " 'gold_inds': {'table_1': 'the revenue of year ended december 31 2008 ( unaudited ) is $ 9362.2 ; the revenue of year ended december 31 2007 ( unaudited ) is $ 9244.9 ;'},\n",
       " 'exe_ans': 0.012690000000000002,\n",
       " 'program_re': 'divide(subtract(9362.2, 9244.9), 9244.9)'}"
      ]
     },
     "execution_count": 55,
     "metadata": {},
     "output_type": "execute_result"
    }
   ],
   "source": [
    "sample_question.qa"
   ]
  },
  {
   "cell_type": "code",
   "execution_count": 208,
   "metadata": {},
   "outputs": [
    {
     "name": "stdout",
     "output_type": "stream",
     "text": [
      "{'table_6': '2008 the net cash from operating activities of year ended june 30 2009 2008 is $ 206588 ; the net cash from operating activities of year ended june 30 2009 2008 is $ 181001 ; the net cash from operating activities of year ended june 30 2009 is $ 174247 ;'}\n"
     ]
    },
    {
     "data": {
      "text/html": [
       "<div>\n",
       "<style scoped>\n",
       "    .dataframe tbody tr th:only-of-type {\n",
       "        vertical-align: middle;\n",
       "    }\n",
       "\n",
       "    .dataframe tbody tr th {\n",
       "        vertical-align: top;\n",
       "    }\n",
       "\n",
       "    .dataframe thead th {\n",
       "        text-align: right;\n",
       "    }\n",
       "</style>\n",
       "<table border=\"1\" class=\"dataframe\">\n",
       "  <thead>\n",
       "    <tr style=\"text-align: right;\">\n",
       "      <th></th>\n",
       "      <th>0</th>\n",
       "      <th>1</th>\n",
       "      <th>2</th>\n",
       "      <th>3</th>\n",
       "    </tr>\n",
       "  </thead>\n",
       "  <tbody>\n",
       "    <tr>\n",
       "      <th>0</th>\n",
       "      <td>2008</td>\n",
       "      <td>year ended june 30 2009 2008</td>\n",
       "      <td>year ended june 30 2009 2008</td>\n",
       "      <td>year ended june 30 2009</td>\n",
       "    </tr>\n",
       "    <tr>\n",
       "      <th>1</th>\n",
       "      <td>net income</td>\n",
       "      <td>$ 103102</td>\n",
       "      <td>$ 104222</td>\n",
       "      <td>$ 104681</td>\n",
       "    </tr>\n",
       "    <tr>\n",
       "      <th>2</th>\n",
       "      <td>non-cash expenses</td>\n",
       "      <td>74397</td>\n",
       "      <td>70420</td>\n",
       "      <td>56348</td>\n",
       "    </tr>\n",
       "    <tr>\n",
       "      <th>3</th>\n",
       "      <td>change in receivables</td>\n",
       "      <td>21214</td>\n",
       "      <td>-2913 ( 2913 )</td>\n",
       "      <td>-28853 ( 28853 )</td>\n",
       "    </tr>\n",
       "    <tr>\n",
       "      <th>4</th>\n",
       "      <td>change in deferred revenue</td>\n",
       "      <td>21943</td>\n",
       "      <td>5100</td>\n",
       "      <td>24576</td>\n",
       "    </tr>\n",
       "    <tr>\n",
       "      <th>5</th>\n",
       "      <td>change in other assets and liabilities</td>\n",
       "      <td>-14068 ( 14068 )</td>\n",
       "      <td>4172</td>\n",
       "      <td>17495</td>\n",
       "    </tr>\n",
       "    <tr>\n",
       "      <th>6</th>\n",
       "      <td>net cash from operating activities</td>\n",
       "      <td>$ 206588</td>\n",
       "      <td>$ 181001</td>\n",
       "      <td>$ 174247</td>\n",
       "    </tr>\n",
       "  </tbody>\n",
       "</table>\n",
       "</div>"
      ],
      "text/plain": [
       "                                        0                             1  \\\n",
       "0                                    2008  year ended june 30 2009 2008   \n",
       "1                              net income                      $ 103102   \n",
       "2                       non-cash expenses                         74397   \n",
       "3                   change in receivables                         21214   \n",
       "4              change in deferred revenue                         21943   \n",
       "5  change in other assets and liabilities              -14068 ( 14068 )   \n",
       "6      net cash from operating activities                      $ 206588   \n",
       "\n",
       "                              2                        3  \n",
       "0  year ended june 30 2009 2008  year ended june 30 2009  \n",
       "1                      $ 104222                 $ 104681  \n",
       "2                         70420                    56348  \n",
       "3                -2913 ( 2913 )         -28853 ( 28853 )  \n",
       "4                          5100                    24576  \n",
       "5                          4172                    17495  \n",
       "6                      $ 181001                 $ 174247  "
      ]
     },
     "execution_count": 208,
     "metadata": {},
     "output_type": "execute_result"
    }
   ],
   "source": [
    "print(sample_question['qa']['gold_inds'])\n",
    "\n",
    "pd.DataFrame(sample_question.table)"
   ]
  },
  {
   "cell_type": "markdown",
   "metadata": {},
   "source": [
    "### Investigating the other columns\n",
    "\n",
    "- Need to investigate what these are:\n",
    "    - `.pre_text`\n",
    "    - `.post_text`\n",
    "    - `.table_ori`\n",
    "    - `.annotation`"
   ]
  },
  {
   "cell_type": "markdown",
   "metadata": {},
   "source": [
    "`.pre_text` appears to be the context before the table; similarly `.post_text` is the text found after the table\n",
    "\n",
    "We need to combine `pre_text`, the `table`, and then the `post_text` components. They also need to be cleaned appropriately\n",
    "- trailing whitespaces, need for new-lines etc / general formating for easier digestion into LLM\n",
    "- incorrect usage of spacing, see: \" , \" and \" .\" instead of \", \" and \".\"\n",
    "- there are cases of artifacts, see : `%%transmsg` at end of `post_text`"
   ]
  },
  {
   "cell_type": "code",
   "execution_count": 3,
   "metadata": {},
   "outputs": [
    {
     "name": "stdout",
     "output_type": "stream",
     "text": [
      "['tax returns for 2001 and beyond are open for examination under statute .', 'currently , unrecognized tax benefits are not expected to change significantly over the next 12 months .', '19 .', 'stock-based and other management compensation plans in april 2009 , the company approved a global incentive plan which replaces the company 2019s 2004 stock incentive plan .', 'the 2009 global incentive plan ( 201cgip 201d ) enables the compensation committee of the board of directors to award incentive and nonqualified stock options , stock appreciation rights , shares of series a common stock , restricted stock , restricted stock units ( 201crsus 201d ) and incentive bonuses ( which may be paid in cash or stock or a combination thereof ) , any of which may be performance-based , with vesting and other award provisions that provide effective incentive to company employees ( including officers ) , non-management directors and other service providers .', 'under the 2009 gip , the company no longer can grant rsus with the right to participate in dividends or dividend equivalents .', 'the maximum number of shares that may be issued under the 2009 gip is equal to 5350000 shares plus ( a ) any shares of series a common stock that remain available for issuance under the 2004 stock incentive plan ( 201csip 201d ) ( not including any shares of series a common stock that are subject to outstanding awards under the 2004 sip or any shares of series a common stock that were issued pursuant to awards under the 2004 sip ) and ( b ) any awards under the 2004 stock incentive plan that remain outstanding that cease for any reason to be subject to such awards ( other than by reason of exercise or settlement of the award to the extent that such award is exercised for or settled in vested and non-forfeitable shares ) .', 'as of december 31 , 2010 , total shares available for awards and total shares subject to outstanding awards are as follows : shares available for awards shares subject to outstanding awards .']\n",
      "\n",
      "\n",
      "\n",
      "['upon the termination of a participant 2019s employment with the company by reason of death or disability or by the company without cause ( as defined in the respective award agreements ) , an award in amount equal to ( i ) the value of the award granted multiplied by ( ii ) a fraction , ( x ) the numerator of which is the number of full months between grant date and the date of such termination , and ( y ) the denominator of which is the term of the award , such product to be rounded down to the nearest whole number , and reduced by ( iii ) the value of any award that previously vested , shall immediately vest and become payable to the participant .', 'upon the termination of a participant 2019s employment with the company for any other reason , any unvested portion of the award shall be forfeited and cancelled without consideration .', 'there was $ 19 million and $ 0 million of tax benefit realized from stock option exercises and vesting of rsus during the years ended december 31 , 2010 and 2009 , respectively .', 'during the year ended december 31 , 2008 the company reversed $ 8 million of the $ 19 million tax benefit that was realized during the year ended december 31 , 2007 .', 'deferred compensation in april 2007 , certain participants in the company 2019s 2004 deferred compensation plan elected to participate in a revised program , which includes both cash awards and restricted stock units ( see restricted stock units below ) .', 'based on participation in the revised program , the company expensed $ 9 million , $ 10 million and $ 8 million during the years ended december 31 , 2010 , 2009 and 2008 , respectively , related to the revised program and made payments of $ 4 million during the year ended december 31 , 2010 to participants who left the company and $ 28 million to active employees during december 2010 .', 'as of december 31 , 2010 , $ 1 million remains to be paid during 2011 under the revised program .', 'as of december 31 , 2009 , there was no deferred compensation payable remaining associated with the 2004 deferred compensation plan .', 'the company recorded expense related to participants continuing in the 2004 deferred %%transmsg*** transmitting job : d77691 pcn : 132000000 ***%%pcmsg|132 |00011|yes|no|02/09/2011 18:22|0|0|page is valid , no graphics -- color : n| .']\n"
     ]
    }
   ],
   "source": [
    "sample_question = raw_data.iloc[5]\n",
    "\n",
    "print(sample_question.pre_text)\n",
    "print('\\n\\n')\n",
    "print(sample_question.post_text)"
   ]
  },
  {
   "cell_type": "markdown",
   "metadata": {},
   "source": [
    "### I've found a badly annotated question\n",
    "\n",
    "The following question seems to be wrong\n",
    "\n",
    "The question is: *what portion of the total shares subject to outstanding awards is under the 2009 global incentive plan?*\n",
    "\n",
    "To answer the question we need:\n",
    "\n",
    "$\\frac{\\text{outstanding awards in 2009}}{\\text{outstanding awards across all years}}$"
   ]
  },
  {
   "cell_type": "markdown",
   "metadata": {},
   "source": [
    "If I extract the table from\n",
    "\n",
    "`pd.DataFrame(sample_question.table).to_markdown()`"
   ]
  },
  {
   "cell_type": "code",
   "execution_count": 4,
   "metadata": {},
   "outputs": [
    {
     "name": "stdout",
     "output_type": "stream",
     "text": [
      "|    | 0                          | 1                           | 2                                    |\n",
      "|---:|:---------------------------|:----------------------------|:-------------------------------------|\n",
      "|  0 |                            | shares available for awards | shares subject to outstanding awards |\n",
      "|  1 | 2009 global incentive plan | 2322450                     | 2530454                              |\n",
      "|  2 | 2004 stock incentive plan  | -                           | 5923147                              |\n"
     ]
    }
   ],
   "source": [
    "print(pd.DataFrame(sample_question.table).to_markdown())"
   ]
  },
  {
   "cell_type": "markdown",
   "metadata": {},
   "source": [
    "If for some reason this is wrong, lets extract it from the annotator dict\n",
    "\n",
    "```\n",
    "pd.concat(\n",
    "    pd.read_html(\n",
    "        StringIO(sample_question.annotation.get('amt_table'))\n",
    "        )\n",
    "    )\n",
    "```"
   ]
  },
  {
   "cell_type": "code",
   "execution_count": 5,
   "metadata": {},
   "outputs": [
    {
     "data": {
      "text/html": [
       "<div>\n",
       "<style scoped>\n",
       "    .dataframe tbody tr th:only-of-type {\n",
       "        vertical-align: middle;\n",
       "    }\n",
       "\n",
       "    .dataframe tbody tr th {\n",
       "        vertical-align: top;\n",
       "    }\n",
       "\n",
       "    .dataframe thead th {\n",
       "        text-align: right;\n",
       "    }\n",
       "</style>\n",
       "<table border=\"1\" class=\"dataframe\">\n",
       "  <thead>\n",
       "    <tr style=\"text-align: right;\">\n",
       "      <th></th>\n",
       "      <th>0</th>\n",
       "      <th>1</th>\n",
       "      <th>2</th>\n",
       "      <th>3</th>\n",
       "    </tr>\n",
       "  </thead>\n",
       "  <tbody>\n",
       "    <tr>\n",
       "      <th>0</th>\n",
       "      <td>1</td>\n",
       "      <td>NaN</td>\n",
       "      <td>shares available for awards</td>\n",
       "      <td>shares subject to outstanding awards</td>\n",
       "    </tr>\n",
       "    <tr>\n",
       "      <th>1</th>\n",
       "      <td>2</td>\n",
       "      <td>2009 global incentive plan</td>\n",
       "      <td>2322450</td>\n",
       "      <td>2530454</td>\n",
       "    </tr>\n",
       "    <tr>\n",
       "      <th>2</th>\n",
       "      <td>3</td>\n",
       "      <td>2004 stock incentive plan</td>\n",
       "      <td>-</td>\n",
       "      <td>5923147</td>\n",
       "    </tr>\n",
       "  </tbody>\n",
       "</table>\n",
       "</div>"
      ],
      "text/plain": [
       "   0                           1                            2  \\\n",
       "0  1                         NaN  shares available for awards   \n",
       "1  2  2009 global incentive plan                      2322450   \n",
       "2  3   2004 stock incentive plan                            -   \n",
       "\n",
       "                                      3  \n",
       "0  shares subject to outstanding awards  \n",
       "1                               2530454  \n",
       "2                               5923147  "
      ]
     },
     "execution_count": 5,
     "metadata": {},
     "output_type": "execute_result"
    }
   ],
   "source": [
    "from io import StringIO\n",
    "pd.concat(\n",
    "    pd.read_html(\n",
    "        StringIO(sample_question.annotation.get('amt_table'))\n",
    "        )\n",
    "    )"
   ]
  },
  {
   "cell_type": "markdown",
   "metadata": {},
   "source": [
    "Both tables indicate the same values/ headers/ column names - so no issue there\n",
    "\n",
    "Therefore the true answer should be:\n",
    "\n",
    "2530454 / (5923147 + 2530454)"
   ]
  },
  {
   "cell_type": "code",
   "execution_count": 6,
   "metadata": {},
   "outputs": [
    {
     "name": "stdout",
     "output_type": "stream",
     "text": [
      "29.933444930746077\n",
      "70.1%\n"
     ]
    }
   ],
   "source": [
    "# My calculation\n",
    "print(\n",
    "    (2530454 / (5923147 + 2530454)) * 100\n",
    ")\n",
    "\n",
    "# Their calculation\n",
    "print(\n",
    "    sample_question.qa.get('answer')\n",
    ")"
   ]
  },
  {
   "cell_type": "code",
   "execution_count": null,
   "metadata": {},
   "outputs": [
    {
     "data": {
      "text/plain": [
       "{'question': 'what portion of the total shares subject to outstanding awards is under the 2009 global incentive plan?',\n",
       " 'answer': '70.1%',\n",
       " 'explanation': '',\n",
       " 'ann_table_rows': [1, 2],\n",
       " 'ann_text_rows': [],\n",
       " 'steps': [{'op': 'add2-1',\n",
       "   'arg1': '2530454',\n",
       "   'arg2': '5923147',\n",
       "   'res': '8453601'},\n",
       "  {'op': 'divide2-2', 'arg1': '5923147', 'arg2': '#0', 'res': '70.1%'}],\n",
       " 'program': 'add(2530454, 5923147), divide(5923147, #0)',\n",
       " 'gold_inds': {'table_1': 'the 2009 global incentive plan of shares available for awards is 2322450 ; the 2009 global incentive plan of shares subject to outstanding awards is 2530454 ;',\n",
       "  'table_2': 'the 2004 stock incentive plan of shares available for awards is - ; the 2004 stock incentive plan of shares subject to outstanding awards is 5923147 ;'},\n",
       " 'exe_ans': 0.70067,\n",
       " 'program_re': 'divide(5923147, add(2530454, 5923147))'}"
      ]
     },
     "execution_count": 8,
     "metadata": {},
     "output_type": "execute_result"
    }
   ],
   "source": [
    "# See 'table_2' entry: they use numerator to be the value of 2004\n",
    "# appears to be wrong\n",
    "sample_question.qa"
   ]
  },
  {
   "cell_type": "markdown",
   "metadata": {},
   "source": [
    "# Checking continual questions"
   ]
  },
  {
   "cell_type": "code",
   "execution_count": 357,
   "metadata": {},
   "outputs": [
    {
     "name": "stdout",
     "output_type": "stream",
     "text": [
      "what is the roi of an investment in ups in 2004 and sold in 2006?\n",
      "what was the difference in percentage cumulative return on investment for united parcel service inc . compared to the s&p 500 index for the five year period ended 12/31/09?\n"
     ]
    }
   ],
   "source": [
    "# Hybrid questions are those that have more than one question\n",
    "# These are found in qa_0 and qa_1 columns\n",
    "# They do not their qa column populated\n",
    "# Use this to filter them\n",
    "simple_questions = raw_data[~raw_data['qa'].isna()]\n",
    "hybrid_questions = raw_data[raw_data['qa'].isna()]\n",
    "\n",
    "print(hybrid_questions.iloc[0].qa_0.get('question'))\n",
    "print(hybrid_questions.iloc[0].qa_1.get('question'))"
   ]
  },
  {
   "cell_type": "code",
   "execution_count": 356,
   "metadata": {},
   "outputs": [
    {
     "name": "stdout",
     "output_type": "stream",
     "text": [
      "['what was the fluctuation of the performance price of the ups from 2004 to 2006?', 'and how much does this fluctuation represent in relation to that price in 2004?', 'and from this year to 2009, what was the fluctuation for that stock?', 'what is this fluctuation as a percentage of the 2004 price?', 'and for the s&p 500 index price, what was the fluctuation in those five years?', 'and what percentage does this fluctuation represent in relation to the 2004 price of this stock?', 'what is, then, the difference between the ups percentage and this s&p 500 index one, for this five year period?']\n",
      "\n",
      "\n",
      "\n",
      "[0, 0, 1, 1, 1, 1, 1]\n"
     ]
    }
   ],
   "source": [
    "# Dialogue break\n",
    "print(hybrid_questions.iloc[0].annotation.get('dialogue_break'))\n",
    "\n",
    "print('\\n\\n')\n",
    "\n",
    "# QA split\n",
    "print(hybrid_questions.iloc[0].annotation.get('qa_split'))"
   ]
  },
  {
   "cell_type": "markdown",
   "metadata": {},
   "source": [
    "We need to build a function that is versatile regardless if the entry is a single question (simple) vs multiple (hybrid). We can use `dialogue_break` and `qa_split` which are present for both cases, and use the indeces to split into groups.\n",
    "\n",
    "This will allow us to construct our prompt correctly."
   ]
  }
 ],
 "metadata": {
  "kernelspec": {
   "display_name": "finseek",
   "language": "python",
   "name": "python3"
  },
  "language_info": {
   "codemirror_mode": {
    "name": "ipython",
    "version": 3
   },
   "file_extension": ".py",
   "mimetype": "text/x-python",
   "name": "python",
   "nbconvert_exporter": "python",
   "pygments_lexer": "ipython3",
   "version": "3.12.7"
  }
 },
 "nbformat": 4,
 "nbformat_minor": 2
}
