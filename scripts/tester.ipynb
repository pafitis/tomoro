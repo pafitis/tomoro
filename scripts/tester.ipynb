{
 "cells": [
  {
   "cell_type": "code",
   "execution_count": 1,
   "metadata": {},
   "outputs": [],
   "source": [
    "import numpy as np\n",
    "import pandas as pd\n",
    "import matplotlib.pyplot as plt\n",
    "import json"
   ]
  },
  {
   "cell_type": "code",
   "execution_count": 2,
   "metadata": {},
   "outputs": [
    {
     "data": {
      "text/plain": [
       "['2008',\n",
       " 'year ended june 30 2009 2008',\n",
       " 'year ended june 30 2009 2008',\n",
       " 'year ended june 30 2009']"
      ]
     },
     "execution_count": 2,
     "metadata": {},
     "output_type": "execute_result"
    }
   ],
   "source": [
    "raw_data = pd.read_json('../data/train.json')\n",
    "raw_data.head()\n",
    "\n",
    "raw_data.iloc[0].table[0]"
   ]
  },
  {
   "cell_type": "code",
   "execution_count": null,
   "metadata": {},
   "outputs": [],
   "source": [
    "def table_to_sentences(context_table: list[list[str]]) -> str:\n",
    "    \"\"\" Converts a table into sentences for better parsing into prompts\n",
    "\n",
    "    Assumes table is given as a list of rows. \n",
    "        Each row is a list of values\n",
    "    Assumes that the first row is \n",
    "        [column name 1, column name 2, ..., column name n] \n",
    "\n",
    "    Args:\n",
    "        context_table (list[list[str]]): Table in list form. \n",
    "            Expects each row to appear as a list of values\n",
    "\n",
    "    Returns:\n",
    "        str: String form of the \n",
    "    \"\"\"\n",
    "    cols = context_table[0]\n",
    "\n",
    "    sentences = []\n",
    "    # Iterate over the rows and create a sentence for each row\n",
    "    for ix, row_vals in enumerate(context_table[1:]):\n",
    "        contents = [f'{col}: {val}' for col, val in zip(cols, row_vals)]\n",
    "        sentence = f\"[Row {ix}] \" + \"; \".join(contents)\n",
    "\n",
    "        sentences.append(sentence)\n",
    "\n",
    "    return \"\\n\".join(sentences)\n",
    "\n",
    "\n",
    "table_to_sentences(raw_data.iloc[0].table)"
   ]
  },
  {
   "cell_type": "code",
   "execution_count": null,
   "metadata": {},
   "outputs": [
    {
     "ename": "ValueError",
     "evalue": "too many values to unpack (expected 2)",
     "output_type": "error",
     "traceback": [
      "\u001b[31m---------------------------------------------------------------------------\u001b[39m",
      "\u001b[31mValueError\u001b[39m                                Traceback (most recent call last)",
      "\u001b[36mCell\u001b[39m\u001b[36m \u001b[39m\u001b[32mIn[4]\u001b[39m\u001b[32m, line 1\u001b[39m\n\u001b[32m----> \u001b[39m\u001b[32m1\u001b[39m \u001b[43mtable_to_sentences\u001b[49m\u001b[43m(\u001b[49m\u001b[43mraw_data\u001b[49m\u001b[43m.\u001b[49m\u001b[43miloc\u001b[49m\u001b[43m[\u001b[49m\u001b[32;43m0\u001b[39;49m\u001b[43m]\u001b[49m\u001b[43m.\u001b[49m\u001b[43mtable\u001b[49m\u001b[43m)\u001b[49m\n",
      "\u001b[36mCell\u001b[39m\u001b[36m \u001b[39m\u001b[32mIn[3]\u001b[39m\u001b[32m, line 20\u001b[39m, in \u001b[36mtable_to_sentences\u001b[39m\u001b[34m(context_table)\u001b[39m\n\u001b[32m     18\u001b[39m sentences = []\n\u001b[32m     19\u001b[39m \u001b[38;5;66;03m# Iterate over the rows and create a sentence for each row\u001b[39;00m\n\u001b[32m---> \u001b[39m\u001b[32m20\u001b[39m \u001b[38;5;28;01mfor\u001b[39;00m ix, row_vals \u001b[38;5;129;01min\u001b[39;00m context_table[\u001b[32m1\u001b[39m:]:\n\u001b[32m     21\u001b[39m     sentence = \u001b[33mf\u001b[39m\u001b[33m\"\u001b[39m\u001b[33m[Row \u001b[39m\u001b[38;5;132;01m{\u001b[39;00mix\u001b[38;5;132;01m}\u001b[39;00m\u001b[33m] \u001b[39m\u001b[33m\"\u001b[39m + [\u001b[33mf\u001b[39m\u001b[33m'\u001b[39m\u001b[38;5;132;01m{\u001b[39;00mcol\u001b[38;5;132;01m}\u001b[39;00m\u001b[33m: \u001b[39m\u001b[38;5;132;01m{\u001b[39;00mval\u001b[38;5;132;01m}\u001b[39;00m\u001b[33m'\u001b[39m \u001b[38;5;28;01mfor\u001b[39;00m col, val \u001b[38;5;129;01min\u001b[39;00m \u001b[38;5;28mzip\u001b[39m(cols, row_vals)]\n\u001b[32m     23\u001b[39m     sentences.append(sentence)\n",
      "\u001b[31mValueError\u001b[39m: too many values to unpack (expected 2)"
     ]
    }
   ],
   "source": []
  }
 ],
 "metadata": {
  "kernelspec": {
   "display_name": "finseek",
   "language": "python",
   "name": "python3"
  },
  "language_info": {
   "codemirror_mode": {
    "name": "ipython",
    "version": 3
   },
   "file_extension": ".py",
   "mimetype": "text/x-python",
   "name": "python",
   "nbconvert_exporter": "python",
   "pygments_lexer": "ipython3",
   "version": "3.12.7"
  }
 },
 "nbformat": 4,
 "nbformat_minor": 2
}
