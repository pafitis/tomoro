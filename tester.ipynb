{
 "cells": [
  {
   "cell_type": "code",
   "execution_count": 5,
   "metadata": {},
   "outputs": [],
   "source": [
    "import numpy as np\n",
    "import pandas as pd\n",
    "import matplotlib.pyplot as plt\n",
    "import json"
   ]
  },
  {
   "cell_type": "code",
   "execution_count": 6,
   "metadata": {},
   "outputs": [],
   "source": [
    "from utils.data_utils import process_data_table \n",
    "raw_data = pd.read_json('data/train.json')\n",
    "all_prompts = process_data_table(raw_data)"
   ]
  },
  {
   "cell_type": "code",
   "execution_count": 7,
   "metadata": {},
   "outputs": [],
   "source": [
    "from utils.eval_utils import find_answer, evaluate_maths"
   ]
  },
  {
   "cell_type": "code",
   "execution_count": 8,
   "metadata": {},
   "outputs": [
    {
     "data": {
      "text/plain": [
       "'14.1%'"
      ]
     },
     "execution_count": 8,
     "metadata": {},
     "output_type": "execute_result"
    }
   ],
   "source": [
    "all_prompts[0].get('answer')"
   ]
  },
  {
   "cell_type": "code",
   "execution_count": 9,
   "metadata": {},
   "outputs": [
    {
     "data": {
      "text/plain": [
       "[206588.0, 181001.0, 25587.0, 0.14136]"
      ]
     },
     "execution_count": 9,
     "metadata": {},
     "output_type": "execute_result"
    }
   ],
   "source": [
    "all_prompts[0].get('step_by_step_answers')"
   ]
  },
  {
   "cell_type": "code",
   "execution_count": 13,
   "metadata": {},
   "outputs": [
    {
     "data": {
      "text/plain": [
       "np.float64(9.99)"
      ]
     },
     "execution_count": 13,
     "metadata": {},
     "output_type": "execute_result"
    }
   ],
   "source": [
    "diff_percentage_fix"
   ]
  },
  {
   "cell_type": "code",
   "execution_count": null,
   "metadata": {},
   "outputs": [],
   "source": [
    "prediction = 0.1\n",
    "ground_truth = 10\n",
    "\n",
    "difference = np.abs(prediction - ground_truth)\n",
    "diff_percentage_fix = difference\n",
    "\n"
   ]
  },
  {
   "cell_type": "code",
   "execution_count": 23,
   "metadata": {},
   "outputs": [
    {
     "data": {
      "text/plain": [
       "np.float64(9.9)"
      ]
     },
     "execution_count": 23,
     "metadata": {},
     "output_type": "execute_result"
    }
   ],
   "source": [
    "difference"
   ]
  },
  {
   "cell_type": "code",
   "execution_count": 4,
   "metadata": {},
   "outputs": [],
   "source": [
    "test = r\"\"\"\n",
    "    To calculate the percentage change in gross unrecognized tax benefits from 2011 to 2012:  \n",
    "\n",
    "    1. **Net Change**:  \n",
    "    \\text{subtract}(2062, 1375)  \n",
    "\n",
    "    2. **Percentage Change**:  \n",
    "    \\boxed{\\text{multiply}\\left(\\text{divide}\\left(\\text{subtract}(2062, 1375), 1375\\right), 100\\right)}  \n",
    "\n",
    "    (No unit normalization required, as all values are in the same currency.)\n",
    "\"\"\""
   ]
  },
  {
   "cell_type": "code",
   "execution_count": 5,
   "metadata": {},
   "outputs": [
    {
     "data": {
      "text/plain": [
       "'\\n    To calculate the percentage change in gross unrecognized tax benefits from 2011 to 2012:  \\n\\n    1. **Net Change**:  \\n    \\\\text{subtract}(2062, 1375)  \\n\\n    2. **Percentage Change**:  \\n    \\\\boxed{\\\\text{multiply}\\\\left(\\\\text{divide}\\\\left(\\\\text{subtract}(2062, 1375), 1375\\\\right), 100\\\\right)}  \\n\\n    (No unit normalization required, as all values are in the same currency.)\\n'"
      ]
     },
     "execution_count": 5,
     "metadata": {},
     "output_type": "execute_result"
    }
   ],
   "source": [
    "test"
   ]
  },
  {
   "cell_type": "code",
   "execution_count": 8,
   "metadata": {},
   "outputs": [
    {
     "data": {
      "text/plain": [
       "49.96363636363637"
      ]
     },
     "execution_count": 8,
     "metadata": {},
     "output_type": "execute_result"
    }
   ],
   "source": [
    "evaluate_maths(find_answer(test))"
   ]
  },
  {
   "cell_type": "code",
   "execution_count": null,
   "metadata": {},
   "outputs": [],
   "source": []
  },
  {
   "cell_type": "code",
   "execution_count": 29,
   "metadata": {},
   "outputs": [
    {
     "data": {
      "text/plain": [
       "'multiply(divide(subtract(2062, 1375), 1375), 100)'"
      ]
     },
     "execution_count": 29,
     "metadata": {},
     "output_type": "execute_result"
    }
   ],
   "source": [
    "test.replace('\\\\', '').replace('boxed', '').replace('{', '').replace('}', '').replace('text', '').replace('left','').replace('right','')"
   ]
  },
  {
   "cell_type": "code",
   "execution_count": 30,
   "metadata": {},
   "outputs": [
    {
     "data": {
      "text/plain": [
       "49.96363636363637"
      ]
     },
     "execution_count": 30,
     "metadata": {},
     "output_type": "execute_result"
    }
   ],
   "source": [
    "((2062 - 1375) /1375) * 100"
   ]
  },
  {
   "cell_type": "code",
   "execution_count": null,
   "metadata": {},
   "outputs": [],
   "source": [
    "multiply(divide(subtract(2062, 1375), 1375), 100)"
   ]
  },
  {
   "cell_type": "code",
   "execution_count": 24,
   "metadata": {},
   "outputs": [
    {
     "data": {
      "text/plain": [
       "np.float64(0.0)"
      ]
     },
     "execution_count": 24,
     "metadata": {},
     "output_type": "execute_result"
    }
   ],
   "source": [
    "diff_percentage_fix"
   ]
  },
  {
   "cell_type": "code",
   "execution_count": 3,
   "metadata": {},
   "outputs": [],
   "source": [
    "from utils.model_utils import converse_llm, async_converse_llm\n",
    "from openai import OpenAI, AsyncOpenAI\n",
    "import os\n",
    "\n",
    "from utils.prompts import SYSTEM_PROMPT_V3"
   ]
  },
  {
   "cell_type": "code",
   "execution_count": null,
   "metadata": {},
   "outputs": [],
   "source": [
    "client = AsyncOpenAI(\n",
    "    api_key=os.environ.get('DEEPSEEK_API'),\n",
    "    base_url=\"https://api.deepseek.com\",\n",
    ")\n",
    "\n",
    "\n",
    "import asyncio\n",
    "tasks = []\n",
    "task = asyncio.create_task(async_converse_llm(\n",
    "    processed_data_entry=all_prompts[0],\n",
    "    client=client,\n",
    "    model_name='deepseek-reasoner',\n",
    "    use_gold_inds=True,\n",
    "    question_to_use='step_by_step_questions',\n",
    "    answers_to_use='step_by_step_answers',\n",
    "    sys_prompt=SYSTEM_PROMPT_V3,\n",
    "))\n",
    "tasks.append(task)\n",
    "\n",
    "test = await asyncio.gather(*tasks)"
   ]
  },
  {
   "cell_type": "code",
   "execution_count": 8,
   "metadata": {},
   "outputs": [],
   "source": [
    "client = OpenAI(\n",
    "    api_key=os.environ.get('DEEPSEEK_API'),\n",
    "    base_url=\"https://api.deepseek.com\",\n",
    ")\n",
    "test = converse_llm(\n",
    "    processed_data_entry=all_prompts[0],\n",
    "    client=client,\n",
    "    model_name='deepseek-math',\n",
    "    use_gold_inds=True,\n",
    "    question_to_use='step_by_step_questions',\n",
    "    answers_to_use='step_by_step_answers',\n",
    "    sys_prompt=SYSTEM_PROMPT_V3,\n",
    ")"
   ]
  },
  {
   "cell_type": "code",
   "execution_count": 10,
   "metadata": {},
   "outputs": [
    {
     "data": {
      "text/plain": [
       "SyncPage[Model](data=[Model(id='deepseek-chat', created=None, object='model', owned_by='deepseek'), Model(id='deepseek-reasoner', created=None, object='model', owned_by='deepseek')], object='list')"
      ]
     },
     "execution_count": 10,
     "metadata": {},
     "output_type": "execute_result"
    }
   ],
   "source": [
    "client.models.list()"
   ]
  },
  {
   "cell_type": "code",
   "execution_count": 5,
   "metadata": {},
   "outputs": [
    {
     "data": {
      "text/plain": [
       "[{'question': 'what is the net cash from operating activities in 2009?',\n",
       "  'complete_response': 'Error encountered: Connection error.',\n",
       "  'model_response': '',\n",
       "  'annotator_answer': 206588.0},\n",
       " {'question': 'what about in 2008?',\n",
       "  'complete_response': 'To determine the net cash from operating activities in 2008 based on the provided context:  \\n- The value explicitly stated for 2008 is **$206,588** (no calculations required).  \\n\\nFinal answer:  \\n\\\\boxed{206588}',\n",
       "  'model_response': '206588',\n",
       "  'annotator_answer': 181001.0},\n",
       " {'question': 'what is the difference?',\n",
       "  'complete_response': 'The difference between the net cash from operating activities in 2008 ($206,588) and 2009 ($174,247) is calculated as:\\n\\n\\\\boxed{subtract(206588, 174247)}  \\n\\n**Intermediate unit normalization**:  \\n- 2008 value: $206,588 (no normalization required)  \\n- 2009 value: $174,247 (no normalization required)',\n",
       "  'model_response': 'subtract(206588,174247)',\n",
       "  'annotator_answer': 25587.0},\n",
       " {'question': 'what percentage change does this represent?',\n",
       "  'complete_response': 'To calculate the percentage change in net cash from operating activities from 2008 to 2009:  \\n1. Compute the difference: **subtract(174247, 206588)**  \\n2. Divide by the 2008 value: **divide(subtract(174247, 206588), 206588)**  \\n3. Convert to percentage: **multiply(divide(subtract(174247, 206588), 206588), 100)**  \\n\\n\\\\boxed{multiply(divide(subtract(174247, 206588), 206588), 100)}',\n",
       "  'model_response': 'multiply(divide(subtract(174247,206588),206588),100)',\n",
       "  'annotator_answer': 0.14136}]"
      ]
     },
     "execution_count": 5,
     "metadata": {},
     "output_type": "execute_result"
    }
   ],
   "source": [
    "test"
   ]
  }
 ],
 "metadata": {
  "kernelspec": {
   "display_name": "finseek",
   "language": "python",
   "name": "python3"
  },
  "language_info": {
   "codemirror_mode": {
    "name": "ipython",
    "version": 3
   },
   "file_extension": ".py",
   "mimetype": "text/x-python",
   "name": "python",
   "nbconvert_exporter": "python",
   "pygments_lexer": "ipython3",
   "version": "3.12.7"
  }
 },
 "nbformat": 4,
 "nbformat_minor": 2
}
