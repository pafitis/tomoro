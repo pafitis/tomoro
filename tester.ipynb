{
 "cells": [
  {
   "cell_type": "code",
   "execution_count": 1,
   "metadata": {},
   "outputs": [],
   "source": [
    "import numpy as np\n",
    "import pandas as pd\n",
    "import matplotlib.pyplot as plt\n",
    "import json"
   ]
  },
  {
   "cell_type": "code",
   "execution_count": null,
   "metadata": {},
   "outputs": [],
   "source": [
    "from src.data_utils import process_data_table \n",
    "raw_data = pd.read_json('data/train.json')\n",
    "all_prompts = process_data_table(raw_data)"
   ]
  },
  {
   "cell_type": "code",
   "execution_count": null,
   "metadata": {},
   "outputs": [],
   "source": [
    "from src.model_utils import converse_llm\n",
    "from openai import OpenAI\n",
    "import os\n",
    "client = OpenAI(\n",
    "    api_key=os.environ.get('DEEPSEEK_API'),\n",
    "    base_url=\"https://api.deepseek.com\",\n",
    ")"
   ]
  },
  {
   "cell_type": "code",
   "execution_count": 12,
   "metadata": {},
   "outputs": [],
   "source": [
    "test = converse_llm(\n",
    "    processed_data_entry=all_prompts[0],\n",
    "    client=client,\n",
    "    model_name='deepseek-reasoner',\n",
    ")"
   ]
  },
  {
   "cell_type": "code",
   "execution_count": null,
   "metadata": {},
   "outputs": [],
   "source": [
    "\n",
    "{'role': 'user', 'content': 'what is the net cash from operating activities in 2009?'}\n",
    "{'role': 'assistant', 'content': '{\\n    \"\"user_question\"\": \"\"what is the net cash from operating activities in 2009?\"\",\\n    \"\"user_context\"\": \"\"[Row 5] 2008: net cash from operating activities; year ended june 30 2009 2008: $ 206588; year ended june 30 2009 2008: $ 181001; year ended june 30 2009: $ 174247\"\",\\n    \"\"reasoning\"\": [\\n        \"\"1. Identify relevant data row for net cash from operating activities\"\",\\n        \"\"2. Locate 2009 value in Row 5 context\"\",\\n        \"\"3. Verify $206,588 matches narrative description of 2009 operating cash\"\"\\n    ],\\n    \"\"final_answer\"\": \"\"\\\\\\\\boxed{206588}\"\"\\n}'}\"\n"
   ]
  },
  {
   "cell_type": "code",
   "execution_count": 18,
   "metadata": {},
   "outputs": [
    {
     "name": "stdout",
     "output_type": "stream",
     "text": [
      "Context:\n",
      "\n",
      "26 | 2009 annual report in fiscal 2008, revenues in the credit union systems and services business segment increased 14% ( 14 % ) from fiscal 2007. all revenue components within the segment experienced growth during fiscal 2008. license revenue generated the largest dollar growth in revenue as episys ae, our flagship core processing system aimed at larger credit unions, experienced strong sales throughout the year. support and service revenue, which is the largest component of total revenues for the credit union segment, experienced 34 percent growth in eft support and 10 percent growth in in-house support. gross profit in this business segment increased $ 9344 in fiscal 2008 compared to fiscal 2007, due primarily to the increase in license revenue, which carries the highest margins. liquidity and capital resources we have historically generated positive cash flow from operations and have generally used funds generated from operations and short-term borrowings on our revolving credit facility to meet capital requirements. we expect this trend to continue in the future. the company 2019s cash and cash equivalents increased to $ 118251 at june 30, 2009 from $ 65565 at june 30, 2008. the following table summarizes net cash from operating activities in the statement of cash flows : 2009 2008 2007.\n",
      "\n",
      "[Row 0] 2008: net income; year ended june 30 2009 2008: $ 103102; year ended june 30 2009 2008: $ 104222; year ended june 30 2009: $ 104681\n",
      "[Row 1] 2008: non-cash expenses; year ended june 30 2009 2008: 74397; year ended june 30 2009 2008: 70420; year ended june 30 2009: 56348\n",
      "[Row 2] 2008: change in receivables; year ended june 30 2009 2008: 21214; year ended june 30 2009 2008: -2913 ( 2913 ); year ended june 30 2009: -28853 ( 28853 )\n",
      "[Row 3] 2008: change in deferred revenue; year ended june 30 2009 2008: 21943; year ended june 30 2009 2008: 5100; year ended june 30 2009: 24576\n",
      "[Row 4] 2008: change in other assets and liabilities; year ended june 30 2009 2008: -14068 ( 14068 ); year ended june 30 2009 2008: 4172; year ended june 30 2009: 17495\n",
      "[Row 5] 2008: net cash from operating activities; year ended june 30 2009 2008: $ 206588; year ended june 30 2009 2008: $ 181001; year ended june 30 2009: $ 174247\n",
      "\n",
      "year ended june 30, cash provided by operations increased $ 25587 to $ 206588 for the fiscal year ended june 30, 2009 as compared to $ 181001 for the fiscal year ended june 30, 2008. this increase is primarily attributable to a decrease in receivables compared to the same period a year ago of $ 21214. this decrease is largely the result of fiscal 2010 annual software maintenance billings being provided to customers earlier than in the prior year, which allowed more cash to be collected before the end of the fiscal year than in previous years. further, we collected more cash overall related to revenues that will be recognized in subsequent periods in the current year than in fiscal 2008. cash used in investing activities for the fiscal year ended june 2009 was $ 59227 and includes $ 3027 in contingent consideration paid on prior years 2019 acquisitions. cash used in investing activities for the fiscal year ended june 2008 was $ 102148 and includes payments for acquisitions of $ 48109, plus $ 1215 in contingent consideration paid on prior years 2019 acquisitions. capital expenditures for fiscal 2009 were $ 31562 compared to $ 31105 for fiscal 2008. cash used for software development in fiscal 2009 was $ 24684 compared to $ 23736 during the prior year. net cash used in financing activities for the current fiscal year was $ 94675 and includes the repurchase of 3106 shares of our common stock for $ 58405, the payment of dividends of $ 26903 and $ 13489 net repayment on our revolving credit facilities. cash used in financing activities was partially offset by proceeds of $ 3773 from the exercise of stock options and the sale of common stock ( through the employee stock purchase plan ) and $ 348 excess tax benefits from stock option exercises. during fiscal 2008, net cash used in financing activities for the fiscal year was $ 101905 and includes the repurchase of 4200 shares of our common stock for $ 100996, the payment of dividends of $ 24683 and $ 429 net repayment on our revolving credit facilities. cash used in financing activities was partially offset by proceeds of $ 20394 from the exercise of stock options and the sale of common stock and $ 3809 excess tax benefits from stock option exercises. beginning during fiscal 2008, us financial markets and many of the largest us financial institutions have been shaken by negative developments in the home mortgage industry and the mortgage markets, and particularly the markets for subprime mortgage-backed securities. since that time, these and other such developments have resulted in a broad, global economic downturn. while we, as is the case with most companies, have experienced the effects of this downturn, we have not experienced any significant issues with our current collection efforts, and we believe that any future impact to our liquidity will be minimized by cash generated by recurring sources of revenue and due to our access to available lines of credit..\n",
      "\n",
      "what is the net cash from operating activities in 2009?\n"
     ]
    }
   ],
   "source": [
    "print('Context:\\n\\n26 | 2009 annual report in fiscal 2008, revenues in the credit union systems and services business segment increased 14% ( 14 % ) from fiscal 2007. all revenue components within the segment experienced growth during fiscal 2008. license revenue generated the largest dollar growth in revenue as episys ae, our flagship core processing system aimed at larger credit unions, experienced strong sales throughout the year. support and service revenue, which is the largest component of total revenues for the credit union segment, experienced 34 percent growth in eft support and 10 percent growth in in-house support. gross profit in this business segment increased $ 9344 in fiscal 2008 compared to fiscal 2007, due primarily to the increase in license revenue, which carries the highest margins. liquidity and capital resources we have historically generated positive cash flow from operations and have generally used funds generated from operations and short-term borrowings on our revolving credit facility to meet capital requirements. we expect this trend to continue in the future. the company 2019s cash and cash equivalents increased to $ 118251 at june 30, 2009 from $ 65565 at june 30, 2008. the following table summarizes net cash from operating activities in the statement of cash flows : 2009 2008 2007.\\n\\n[Row 0] 2008: net income; year ended june 30 2009 2008: $ 103102; year ended june 30 2009 2008: $ 104222; year ended june 30 2009: $ 104681\\n[Row 1] 2008: non-cash expenses; year ended june 30 2009 2008: 74397; year ended june 30 2009 2008: 70420; year ended june 30 2009: 56348\\n[Row 2] 2008: change in receivables; year ended june 30 2009 2008: 21214; year ended june 30 2009 2008: -2913 ( 2913 ); year ended june 30 2009: -28853 ( 28853 )\\n[Row 3] 2008: change in deferred revenue; year ended june 30 2009 2008: 21943; year ended june 30 2009 2008: 5100; year ended june 30 2009: 24576\\n[Row 4] 2008: change in other assets and liabilities; year ended june 30 2009 2008: -14068 ( 14068 ); year ended june 30 2009 2008: 4172; year ended june 30 2009: 17495\\n[Row 5] 2008: net cash from operating activities; year ended june 30 2009 2008: $ 206588; year ended june 30 2009 2008: $ 181001; year ended june 30 2009: $ 174247\\n\\nyear ended june 30, cash provided by operations increased $ 25587 to $ 206588 for the fiscal year ended june 30, 2009 as compared to $ 181001 for the fiscal year ended june 30, 2008. this increase is primarily attributable to a decrease in receivables compared to the same period a year ago of $ 21214. this decrease is largely the result of fiscal 2010 annual software maintenance billings being provided to customers earlier than in the prior year, which allowed more cash to be collected before the end of the fiscal year than in previous years. further, we collected more cash overall related to revenues that will be recognized in subsequent periods in the current year than in fiscal 2008. cash used in investing activities for the fiscal year ended june 2009 was $ 59227 and includes $ 3027 in contingent consideration paid on prior years 2019 acquisitions. cash used in investing activities for the fiscal year ended june 2008 was $ 102148 and includes payments for acquisitions of $ 48109, plus $ 1215 in contingent consideration paid on prior years 2019 acquisitions. capital expenditures for fiscal 2009 were $ 31562 compared to $ 31105 for fiscal 2008. cash used for software development in fiscal 2009 was $ 24684 compared to $ 23736 during the prior year. net cash used in financing activities for the current fiscal year was $ 94675 and includes the repurchase of 3106 shares of our common stock for $ 58405, the payment of dividends of $ 26903 and $ 13489 net repayment on our revolving credit facilities. cash used in financing activities was partially offset by proceeds of $ 3773 from the exercise of stock options and the sale of common stock ( through the employee stock purchase plan ) and $ 348 excess tax benefits from stock option exercises. during fiscal 2008, net cash used in financing activities for the fiscal year was $ 101905 and includes the repurchase of 4200 shares of our common stock for $ 100996, the payment of dividends of $ 24683 and $ 429 net repayment on our revolving credit facilities. cash used in financing activities was partially offset by proceeds of $ 20394 from the exercise of stock options and the sale of common stock and $ 3809 excess tax benefits from stock option exercises. beginning during fiscal 2008, us financial markets and many of the largest us financial institutions have been shaken by negative developments in the home mortgage industry and the mortgage markets, and particularly the markets for subprime mortgage-backed securities. since that time, these and other such developments have resulted in a broad, global economic downturn. while we, as is the case with most companies, have experienced the effects of this downturn, we have not experienced any significant issues with our current collection efforts, and we believe that any future impact to our liquidity will be minimized by cash generated by recurring sources of revenue and due to our access to available lines of credit..\\n\\nwhat is the net cash from operating activities in 2009?')"
   ]
  },
  {
   "cell_type": "code",
   "execution_count": null,
   "metadata": {},
   "outputs": [],
   "source": [
    "from src.data_utils import get_context"
   ]
  },
  {
   "cell_type": "code",
   "execution_count": 4,
   "metadata": {},
   "outputs": [
    {
     "name": "stdout",
     "output_type": "stream",
     "text": [
      "Context:\n",
      "\n",
      "[Row 0] 2008: net income; year ended june 30 2009 2008: $ 103102; year ended june 30 2009 2008: $ 104222; year ended june 30 2009: $ 104681\n",
      "[Row 1] 2008: non-cash expenses; year ended june 30 2009 2008: 74397; year ended june 30 2009 2008: 70420; year ended june 30 2009: 56348\n",
      "[Row 2] 2008: change in receivables; year ended june 30 2009 2008: 21214; year ended june 30 2009 2008: -2913 ( 2913 ); year ended june 30 2009: -28853 ( 28853 )\n",
      "[Row 3] 2008: change in deferred revenue; year ended june 30 2009 2008: 21943; year ended june 30 2009 2008: 5100; year ended june 30 2009: 24576\n",
      "[Row 4] 2008: change in other assets and liabilities; year ended june 30 2009 2008: -14068 ( 14068 ); year ended june 30 2009 2008: 4172; year ended june 30 2009: 17495\n",
      "[Row 5] 2008: net cash from operating activities; year ended june 30 2009 2008: $ 206588; year ended june 30 2009 2008: $ 181001; year ended june 30 2009: $ 174247\n"
     ]
    }
   ],
   "source": [
    "print(get_context(raw_data.iloc[0], add_pre_post=False))"
   ]
  },
  {
   "cell_type": "code",
   "execution_count": 6,
   "metadata": {},
   "outputs": [
    {
     "data": {
      "text/plain": [
       "float"
      ]
     },
     "execution_count": 6,
     "metadata": {},
     "output_type": "execute_result"
    }
   ],
   "source": [
    "type(3 * 3.0)"
   ]
  }
 ],
 "metadata": {
  "kernelspec": {
   "display_name": "finseek",
   "language": "python",
   "name": "python3"
  },
  "language_info": {
   "codemirror_mode": {
    "name": "ipython",
    "version": 3
   },
   "file_extension": ".py",
   "mimetype": "text/x-python",
   "name": "python",
   "nbconvert_exporter": "python",
   "pygments_lexer": "ipython3",
   "version": "3.12.7"
  }
 },
 "nbformat": 4,
 "nbformat_minor": 2
}
